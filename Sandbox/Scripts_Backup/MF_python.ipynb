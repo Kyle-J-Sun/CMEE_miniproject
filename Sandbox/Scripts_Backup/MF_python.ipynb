{
 "cells": [
  {
   "cell_type": "markdown",
   "metadata": {},
   "source": [
    "# Model Fitting in Python"
   ]
  },
  {
   "cell_type": "code",
   "execution_count": 1,
   "metadata": {},
   "outputs": [],
   "source": [
    "# import packages\n",
    "from lmfit import Minimizer, Parameters, report_fit\n",
    "import numpy as np\n",
    "import matplotlib.pylab as plt"
   ]
  },
  {
   "cell_type": "code",
   "execution_count": 4,
   "metadata": {},
   "outputs": [],
   "source": [
    "# Create random data\n",
    "t = np.arange(0, 24, 2)\n",
    "N = np.array([32500, 33000, 38000, 105000, 445000, 1430000, 3020000, 4720000, 5670000, 5870000, 5930000, 5940000])\n",
    "np.random.seed(1234) # Set random seed for reproducibility\n",
    "N_rand = N * (1 + np.random.normal(scale = 0.1, size = len(N)))"
   ]
  },
  {
   "cell_type": "code",
   "execution_count": 5,
   "metadata": {},
   "outputs": [
    {
     "data": {
      "image/png": "[encoded data removed]",
      "text/plain": [
       "<Figure size 432x288 with 1 Axes>"
      ]
     },
     "metadata": {
      "needs_background": "light"
     },
     "output_type": "display_data"
    }
   ],
   "source": [
    "# Plotting the figure\n",
    "plt.plot(t, N_rand, 'r+', markersize = 15, markeredgewidth = 2, label = 'Data')\n",
    "plt.xlabel('t', fontsize = 20)\n",
    "plt.ylabel(r'$N$', fontsize = 20)\n",
    "plt.ticklabel_format(style=\"scientific\", scilimits=[0, 3])"
   ]
  },
  {
   "cell_type": "code",
   "execution_count": 67,
   "metadata": {},
   "outputs": [
    {
     "data": {
      "text/plain": [
       "1"
      ]
     },
     "execution_count": 67,
     "metadata": {},
     "output_type": "execute_result"
    }
   ],
   "source": [
    "# Create object for storing parameters\n",
    "params_linear = Parameters()\n",
    "\n",
    "# Add parameters and initial values to it\n",
    "params_linear.add('a', value = 1)\n",
    "params_linear.add('b', value = 1)\n",
    "params_linear.add('c', value = 1)\n",
    "params_linear.add('d', value = 1)"
   ]
  },
  {
   "cell_type": "code",
   "execution_count": 7,
   "metadata": {},
   "outputs": [],
   "source": [
    "# Write down the objective function that we want to minimize\n",
    "def residuals_linear(params, t, data):\n",
    "    \"\"\"\n",
    "    Calculate cubic growth and substract data\n",
    "    \"\"\"\n",
    "    \n",
    "    # Get an ordered dictionary of parameter values\n",
    "    v = params.valuesdict()\n",
    "    \n",
    "    # Cubic model\n",
    "    model = v['a'] * t ** 3 + v['b'] * t ** 2 + v['c'] * t + v['d']\n",
    "    return model - data # Return residual"
   ]
  },
  {
   "cell_type": "markdown",
   "metadata": {},
   "source": [
    "## Fitting poly model using NLLS"
   ]
  },
  {
   "cell_type": "code",
   "execution_count": 11,
   "metadata": {},
   "outputs": [
    {
     "name": "stdout",
     "output_type": "stream",
     "text": [
      "[[Fit Statistics]]\n",
      "    # fitting method   = leastsq\n",
      "    # function evals   = 10\n",
      "    # data points      = 12\n",
      "    # variables        = 4\n",
      "    chi-square         = 1.68617886\n",
      "    reduced chi-square = 0.21077236\n",
      "    Akaike info crit   = -15.5493005\n",
      "    Bayesian info crit = -13.6096739\n",
      "[[Variables]]\n",
      "    a: -0.00147820 +/- 5.3322e-04 (36.07%) (init = 1)\n",
      "    b:  0.03687009 +/- 0.01787451 (48.48%) (init = 1)\n",
      "    c:  0.14339899 +/- 0.16467922 (114.84%) (init = 1)\n",
      "    d:  10.0545124 +/- 0.39977042 (3.98%) (init = 1)\n",
      "[[Correlations]] (unreported correlations are < 0.100)\n",
      "    C(a, b) = -0.984\n",
      "    C(b, c) = -0.960\n",
      "    C(a, c) =  0.900\n",
      "    C(c, d) = -0.779\n",
      "    C(b, d) =  0.621\n",
      "    C(a, d) = -0.528\n"
     ]
    }
   ],
   "source": [
    "# Create a Minimizer object\n",
    "minner = Minimizer(residuals_linear, params_linear, fcn_args = (t, np.log(N_rand)))\n",
    "\n",
    "# Perform the minimization\n",
    "fit_linear_NLLS = minner.minimize()\n",
    "report_fit(fit_linear_NLLS)"
   ]
  },
  {
   "cell_type": "markdown",
   "metadata": {},
   "source": [
    "## Fitting poly model using OLS"
   ]
  },
  {
   "cell_type": "code",
   "execution_count": 12,
   "metadata": {},
   "outputs": [
    {
     "name": "stdout",
     "output_type": "stream",
     "text": [
      "[-1.47819938e-03  3.68700893e-02  1.43398989e-01  1.00545124e+01]\n"
     ]
    }
   ],
   "source": [
    "# Using OLS\n",
    "fit_linear_OLS = np.polyfit(t, np.log(N_rand), 3)\n",
    "print(fit_linear_OLS)"
   ]
  },
  {
   "cell_type": "markdown",
   "metadata": {},
   "source": [
    "## Comparing the NLLS and OLS fits"
   ]
  },
  {
   "cell_type": "code",
   "execution_count": 16,
   "metadata": {},
   "outputs": [
    {
     "name": "stdout",
     "output_type": "stream",
     "text": [
      "The difference between NLLS and OLS:  [ 2.18245647e-12  2.18892265e-12  7.72548692e-13 -1.61293201e-11]\n"
     ]
    }
   ],
   "source": [
    "fit_linear_NLLS.params\n",
    "par_dict = fit_linear_NLLS.params.valuesdict().values()\n",
    "\n",
    "# Transform these into an array\n",
    "par = np.array(list(par_dict))\n",
    "print(\"The difference between NLLS and OLS: \",fit_linear_OLS - par)"
   ]
  },
  {
   "cell_type": "markdown",
   "metadata": {},
   "source": [
    "### Calculating the residuals"
   ]
  },
  {
   "cell_type": "code",
   "execution_count": 19,
   "metadata": {},
   "outputs": [
    {
     "name": "stdout",
     "output_type": "stream",
     "text": [
      "The difference of residuals between NLLS and oLS: [ 1.61293201e-11 -1.16298082e-11 -1.61662683e-10 -5.38717515e-10\n",
      " -1.24756028e-09 -2.39294451e-09 -4.07963086e-09 -6.41237641e-09\n",
      " -9.49593648e-09 -1.34350735e-08 -1.83345428e-08 -2.42990996e-08]\n"
     ]
    }
   ],
   "source": [
    "# Construct the fitted polynomial equation\n",
    "my_poly = np.poly1d(fit_linear_OLS)\n",
    "\n",
    "# Compute predicted values\n",
    "ypred = my_poly(t)\n",
    "\n",
    "# Calculating residuals\n",
    "residuals = ypred - np.log(N_rand)\n",
    "\n",
    "# Calculating residuals for NLLS\n",
    "residuals_NLLS = residuals_linear(fit_linear_NLLS.params, t, np.log(N_rand))\n",
    "\n",
    "print(\"The difference of residuals between NLLS and oLS:\", residuals_NLLS - residuals)"
   ]
  },
  {
   "cell_type": "markdown",
   "metadata": {},
   "source": [
    "## Fitting non-linear models to the data\n",
    "### 1. Logistic Model"
   ]
  },
  {
   "cell_type": "code",
   "execution_count": 20,
   "metadata": {},
   "outputs": [],
   "source": [
    "# Create object for parameter storing\n",
    "params_logistic = Parameters()\n",
    "params_logistic.add('N_0', value = N_rand[0])\n",
    "params_logistic.add('N_max', value = N_rand[-1])\n",
    "\n",
    "# Recall the value for growth rate obtained from a linear fit\n",
    "params_logistic.add('r', value = 0.62)"
   ]
  },
  {
   "cell_type": "code",
   "execution_count": 21,
   "metadata": {},
   "outputs": [],
   "source": [
    "# Write down the objective function that we want to minimize\n",
    "def residuals_logistic(params, t, data):\n",
    "    ''' Model a logistic growth and subtract data '''\n",
    "    # Get an ordered dictionary of parameter values\n",
    "    v = params.valuesdict()\n",
    "    # Logistic model\n",
    "    model = np.log(v['N_0'] * v['N_max'] * np.exp(v['r'] * t) / \\\n",
    "    (v['N_max'] + v['N_0'] * ( np.exp(v['r'] * t) - 1)))\n",
    "    # Return residuals\n",
    "    return model - data"
   ]
  },
  {
   "cell_type": "code",
   "execution_count": 22,
   "metadata": {},
   "outputs": [],
   "source": [
    "# Create a Minimizer object\n",
    "minner = Minimizer(residuals_logistic, params_logistic, fcn_args = (t, np.log(N_rand)))\n",
    "# Perform the minimization\n",
    "fit_logistic = minner.minimize(method = 'leastsq')"
   ]
  },
  {
   "cell_type": "code",
   "execution_count": 23,
   "metadata": {},
   "outputs": [
    {
     "name": "stdout",
     "output_type": "stream",
     "text": [
      "[[Fit Statistics]]\n",
      "    # fitting method   = leastsq\n",
      "    # function evals   = 34\n",
      "    # data points      = 12\n",
      "    # variables        = 3\n",
      "    chi-square         = 2.19693074\n",
      "    reduced chi-square = 0.24410342\n",
      "    Akaike info crit   = -14.3741446\n",
      "    Bayesian info crit = -12.9194246\n",
      "[[Variables]]\n",
      "    N_0:    13998.5739 +/- 4769.60185 (34.07%) (init = 34032.16)\n",
      "    N_max:  7108406.32 +/- 2165947.53 (30.47%) (init = 6529216)\n",
      "    r:      0.44848151 +/- 0.05161938 (11.51%) (init = 0.62)\n",
      "[[Correlations]] (unreported correlations are < 0.100)\n",
      "    C(N_0, r)     = -0.807\n",
      "    C(N_max, r)   = -0.448\n",
      "    C(N_0, N_max) =  0.239\n"
     ]
    }
   ],
   "source": [
    "# Get summary of the fit\n",
    "report_fit(fit_logistic)"
   ]
  },
  {
   "cell_type": "markdown",
   "metadata": {},
   "source": [
    "### 2. Gompertz Model"
   ]
  },
  {
   "cell_type": "code",
   "execution_count": 24,
   "metadata": {},
   "outputs": [],
   "source": [
    "# create object for parameter storing\n",
    "params_gompertz = Parameters()\n",
    "# add with tuples: (NAME VALUE VARY MIN MAX EXPR BRUTE_STEP)\n",
    "params_gompertz.add_many(('N_0', np.log(N_rand)[0], True, 0, None, None, None),\n",
    "                         ('N_max', np.log(N_rand)[-1], True, 0, None, None, None),\n",
    "                         ('r_max', 0.62, True, None, None, None, None),\n",
    "                         ('t_lag', 5, True, 0, None, None, None)) # I see it in the graph"
   ]
  },
  {
   "cell_type": "code",
   "execution_count": 26,
   "metadata": {},
   "outputs": [],
   "source": [
    "# Write down the objective function that we want to minimize\n",
    "def residuals_gompertz(params, t, data):\n",
    "    ''' Model a logistic growth and subtract data '''\n",
    "    # Get an ordered dictionary of parameter values\n",
    "    v = params.valuesdict()\n",
    "    # Logistic model\n",
    "    model = v['N_0'] + (v['N_max'] - v['N_0']) * \\\n",
    "    np.exp(-np.exp(v['r_max'] * np.exp(1) * (v['t_lag'] - t) / \\\n",
    "                  ((v['N_max'] - v['N_0']) * np.log(10)) + 1))\n",
    "    # Return residuals\n",
    "    return model - data"
   ]
  },
  {
   "cell_type": "code",
   "execution_count": 27,
   "metadata": {},
   "outputs": [],
   "source": [
    "# Create minimizer object \n",
    "minner = Minimizer(residuals_gompertz, params_gompertz, fcn_args = (t, np.log(N_rand)))\n",
    "# Perform the minmisation\n",
    "fit_gompertz = minner.minimize()"
   ]
  },
  {
   "cell_type": "code",
   "execution_count": 28,
   "metadata": {},
   "outputs": [
    {
     "name": "stdout",
     "output_type": "stream",
     "text": [
      "[[Fit Statistics]]\n",
      "    # fitting method   = leastsq\n",
      "    # function evals   = 37\n",
      "    # data points      = 12\n",
      "    # variables        = 4\n",
      "    chi-square         = 0.11350314\n",
      "    reduced chi-square = 0.01418789\n",
      "    Akaike info crit   = -47.9299775\n",
      "    Bayesian info crit = -45.9903509\n",
      "[[Variables]]\n",
      "    N_0:    10.3910132 +/- 0.07901002 (0.76%) (init = 10.43506)\n",
      "    N_max:  15.6520240 +/- 0.06730933 (0.43%) (init = 15.6918)\n",
      "    r_max:  1.74097660 +/- 0.09837840 (5.65%) (init = 0.62)\n",
      "    t_lag:  4.52049075 +/- 0.24729695 (5.47%) (init = 5)\n",
      "[[Correlations]] (unreported correlations are < 0.100)\n",
      "    C(r_max, t_lag) =  0.757\n",
      "    C(N_0, t_lag)   =  0.581\n",
      "    C(N_max, r_max) = -0.465\n",
      "    C(N_max, t_lag) = -0.318\n",
      "    C(N_0, N_max)   = -0.132\n",
      "    C(N_0, r_max)   =  0.115\n"
     ]
    }
   ],
   "source": [
    "report_fit(fit_gompertz)"
   ]
  },
  {
   "cell_type": "markdown",
   "metadata": {},
   "source": [
    "## Plot the results"
   ]
  },
  {
   "cell_type": "code",
   "execution_count": 33,
   "metadata": {},
   "outputs": [
    {
     "data": {
      "text/plain": [
       "array([-0.38054895,  0.19951072,  0.44419042,  0.39298725, -0.12649061,\n",
       "       -0.56087243, -0.47296609, -0.06909424,  0.18066636,  0.629328  ,\n",
       "        0.1405405 , -0.37725101])"
      ]
     },
     "execution_count": 33,
     "metadata": {},
     "output_type": "execute_result"
    }
   ],
   "source": [
    "fit_linear_NLLS.residual"
   ]
  },
  {
   "cell_type": "code",
   "execution_count": 37,
   "metadata": {
    "scrolled": true
   },
   "outputs": [
    {
     "data": {
      "text/plain": [
       "array([10.05451242, 10.47696516, 11.12342504, 11.9229385 , 12.80455196,\n",
       "       13.69731186, 14.53026462, 15.23245667, 15.73293445, 15.96074437,\n",
       "       15.84493288, 15.31454641])"
      ]
     },
     "execution_count": 37,
     "metadata": {},
     "output_type": "execute_result"
    }
   ],
   "source": [
    "result_linear"
   ]
  },
  {
   "cell_type": "code",
   "execution_count": 39,
   "metadata": {},
   "outputs": [
    {
     "data": {
      "text/plain": [
       "array([ 0.        ,  0.02402402,  0.04804805,  0.07207207,  0.0960961 ,\n",
       "        0.12012012,  0.14414414,  0.16816817,  0.19219219,  0.21621622,\n",
       "        0.24024024,  0.26426426,  0.28828829,  0.31231231,  0.33633634,\n",
       "        0.36036036,  0.38438438,  0.40840841,  0.43243243,  0.45645646,\n",
       "        0.48048048,  0.5045045 ,  0.52852853,  0.55255255,  0.57657658,\n",
       "        0.6006006 ,  0.62462462,  0.64864865,  0.67267267,  0.6966967 ,\n",
       "        0.72072072,  0.74474474,  0.76876877,  0.79279279,  0.81681682,\n",
       "        0.84084084,  0.86486486,  0.88888889,  0.91291291,  0.93693694,\n",
       "        0.96096096,  0.98498498,  1.00900901,  1.03303303,  1.05705706,\n",
       "        1.08108108,  1.10510511,  1.12912913,  1.15315315,  1.17717718,\n",
       "        1.2012012 ,  1.22522523,  1.24924925,  1.27327327,  1.2972973 ,\n",
       "        1.32132132,  1.34534535,  1.36936937,  1.39339339,  1.41741742,\n",
       "        1.44144144,  1.46546547,  1.48948949,  1.51351351,  1.53753754,\n",
       "        1.56156156,  1.58558559,  1.60960961,  1.63363363,  1.65765766,\n",
       "        1.68168168,  1.70570571,  1.72972973,  1.75375375,  1.77777778,\n",
       "        1.8018018 ,  1.82582583,  1.84984985,  1.87387387,  1.8978979 ,\n",
       "        1.92192192,  1.94594595,  1.96996997,  1.99399399,  2.01801802,\n",
       "        2.04204204,  2.06606607,  2.09009009,  2.11411411,  2.13813814,\n",
       "        2.16216216,  2.18618619,  2.21021021,  2.23423423,  2.25825826,\n",
       "        2.28228228,  2.30630631,  2.33033033,  2.35435435,  2.37837838,\n",
       "        2.4024024 ,  2.42642643,  2.45045045,  2.47447447,  2.4984985 ,\n",
       "        2.52252252,  2.54654655,  2.57057057,  2.59459459,  2.61861862,\n",
       "        2.64264264,  2.66666667,  2.69069069,  2.71471471,  2.73873874,\n",
       "        2.76276276,  2.78678679,  2.81081081,  2.83483483,  2.85885886,\n",
       "        2.88288288,  2.90690691,  2.93093093,  2.95495495,  2.97897898,\n",
       "        3.003003  ,  3.02702703,  3.05105105,  3.07507508,  3.0990991 ,\n",
       "        3.12312312,  3.14714715,  3.17117117,  3.1951952 ,  3.21921922,\n",
       "        3.24324324,  3.26726727,  3.29129129,  3.31531532,  3.33933934,\n",
       "        3.36336336,  3.38738739,  3.41141141,  3.43543544,  3.45945946,\n",
       "        3.48348348,  3.50750751,  3.53153153,  3.55555556,  3.57957958,\n",
       "        3.6036036 ,  3.62762763,  3.65165165,  3.67567568,  3.6996997 ,\n",
       "        3.72372372,  3.74774775,  3.77177177,  3.7957958 ,  3.81981982,\n",
       "        3.84384384,  3.86786787,  3.89189189,  3.91591592,  3.93993994,\n",
       "        3.96396396,  3.98798799,  4.01201201,  4.03603604,  4.06006006,\n",
       "        4.08408408,  4.10810811,  4.13213213,  4.15615616,  4.18018018,\n",
       "        4.2042042 ,  4.22822823,  4.25225225,  4.27627628,  4.3003003 ,\n",
       "        4.32432432,  4.34834835,  4.37237237,  4.3963964 ,  4.42042042,\n",
       "        4.44444444,  4.46846847,  4.49249249,  4.51651652,  4.54054054,\n",
       "        4.56456456,  4.58858859,  4.61261261,  4.63663664,  4.66066066,\n",
       "        4.68468468,  4.70870871,  4.73273273,  4.75675676,  4.78078078,\n",
       "        4.8048048 ,  4.82882883,  4.85285285,  4.87687688,  4.9009009 ,\n",
       "        4.92492492,  4.94894895,  4.97297297,  4.996997  ,  5.02102102,\n",
       "        5.04504505,  5.06906907,  5.09309309,  5.11711712,  5.14114114,\n",
       "        5.16516517,  5.18918919,  5.21321321,  5.23723724,  5.26126126,\n",
       "        5.28528529,  5.30930931,  5.33333333,  5.35735736,  5.38138138,\n",
       "        5.40540541,  5.42942943,  5.45345345,  5.47747748,  5.5015015 ,\n",
       "        5.52552553,  5.54954955,  5.57357357,  5.5975976 ,  5.62162162,\n",
       "        5.64564565,  5.66966967,  5.69369369,  5.71771772,  5.74174174,\n",
       "        5.76576577,  5.78978979,  5.81381381,  5.83783784,  5.86186186,\n",
       "        5.88588589,  5.90990991,  5.93393393,  5.95795796,  5.98198198,\n",
       "        6.00600601,  6.03003003,  6.05405405,  6.07807808,  6.1021021 ,\n",
       "        6.12612613,  6.15015015,  6.17417417,  6.1981982 ,  6.22222222,\n",
       "        6.24624625,  6.27027027,  6.29429429,  6.31831832,  6.34234234,\n",
       "        6.36636637,  6.39039039,  6.41441441,  6.43843844,  6.46246246,\n",
       "        6.48648649,  6.51051051,  6.53453453,  6.55855856,  6.58258258,\n",
       "        6.60660661,  6.63063063,  6.65465465,  6.67867868,  6.7027027 ,\n",
       "        6.72672673,  6.75075075,  6.77477477,  6.7987988 ,  6.82282282,\n",
       "        6.84684685,  6.87087087,  6.89489489,  6.91891892,  6.94294294,\n",
       "        6.96696697,  6.99099099,  7.01501502,  7.03903904,  7.06306306,\n",
       "        7.08708709,  7.11111111,  7.13513514,  7.15915916,  7.18318318,\n",
       "        7.20720721,  7.23123123,  7.25525526,  7.27927928,  7.3033033 ,\n",
       "        7.32732733,  7.35135135,  7.37537538,  7.3993994 ,  7.42342342,\n",
       "        7.44744745,  7.47147147,  7.4954955 ,  7.51951952,  7.54354354,\n",
       "        7.56756757,  7.59159159,  7.61561562,  7.63963964,  7.66366366,\n",
       "        7.68768769,  7.71171171,  7.73573574,  7.75975976,  7.78378378,\n",
       "        7.80780781,  7.83183183,  7.85585586,  7.87987988,  7.9039039 ,\n",
       "        7.92792793,  7.95195195,  7.97597598,  8.        ,  8.02402402,\n",
       "        8.04804805,  8.07207207,  8.0960961 ,  8.12012012,  8.14414414,\n",
       "        8.16816817,  8.19219219,  8.21621622,  8.24024024,  8.26426426,\n",
       "        8.28828829,  8.31231231,  8.33633634,  8.36036036,  8.38438438,\n",
       "        8.40840841,  8.43243243,  8.45645646,  8.48048048,  8.5045045 ,\n",
       "        8.52852853,  8.55255255,  8.57657658,  8.6006006 ,  8.62462462,\n",
       "        8.64864865,  8.67267267,  8.6966967 ,  8.72072072,  8.74474474,\n",
       "        8.76876877,  8.79279279,  8.81681682,  8.84084084,  8.86486486,\n",
       "        8.88888889,  8.91291291,  8.93693694,  8.96096096,  8.98498498,\n",
       "        9.00900901,  9.03303303,  9.05705706,  9.08108108,  9.10510511,\n",
       "        9.12912913,  9.15315315,  9.17717718,  9.2012012 ,  9.22522523,\n",
       "        9.24924925,  9.27327327,  9.2972973 ,  9.32132132,  9.34534535,\n",
       "        9.36936937,  9.39339339,  9.41741742,  9.44144144,  9.46546547,\n",
       "        9.48948949,  9.51351351,  9.53753754,  9.56156156,  9.58558559,\n",
       "        9.60960961,  9.63363363,  9.65765766,  9.68168168,  9.70570571,\n",
       "        9.72972973,  9.75375375,  9.77777778,  9.8018018 ,  9.82582583,\n",
       "        9.84984985,  9.87387387,  9.8978979 ,  9.92192192,  9.94594595,\n",
       "        9.96996997,  9.99399399, 10.01801802, 10.04204204, 10.06606607,\n",
       "       10.09009009, 10.11411411, 10.13813814, 10.16216216, 10.18618619,\n",
       "       10.21021021, 10.23423423, 10.25825826, 10.28228228, 10.30630631,\n",
       "       10.33033033, 10.35435435, 10.37837838, 10.4024024 , 10.42642643,\n",
       "       10.45045045, 10.47447447, 10.4984985 , 10.52252252, 10.54654655,\n",
       "       10.57057057, 10.59459459, 10.61861862, 10.64264264, 10.66666667,\n",
       "       10.69069069, 10.71471471, 10.73873874, 10.76276276, 10.78678679,\n",
       "       10.81081081, 10.83483483, 10.85885886, 10.88288288, 10.90690691,\n",
       "       10.93093093, 10.95495495, 10.97897898, 11.003003  , 11.02702703,\n",
       "       11.05105105, 11.07507508, 11.0990991 , 11.12312312, 11.14714715,\n",
       "       11.17117117, 11.1951952 , 11.21921922, 11.24324324, 11.26726727,\n",
       "       11.29129129, 11.31531532, 11.33933934, 11.36336336, 11.38738739,\n",
       "       11.41141141, 11.43543544, 11.45945946, 11.48348348, 11.50750751,\n",
       "       11.53153153, 11.55555556, 11.57957958, 11.6036036 , 11.62762763,\n",
       "       11.65165165, 11.67567568, 11.6996997 , 11.72372372, 11.74774775,\n",
       "       11.77177177, 11.7957958 , 11.81981982, 11.84384384, 11.86786787,\n",
       "       11.89189189, 11.91591592, 11.93993994, 11.96396396, 11.98798799,\n",
       "       12.01201201, 12.03603604, 12.06006006, 12.08408408, 12.10810811,\n",
       "       12.13213213, 12.15615616, 12.18018018, 12.2042042 , 12.22822823,\n",
       "       12.25225225, 12.27627628, 12.3003003 , 12.32432432, 12.34834835,\n",
       "       12.37237237, 12.3963964 , 12.42042042, 12.44444444, 12.46846847,\n",
       "       12.49249249, 12.51651652, 12.54054054, 12.56456456, 12.58858859,\n",
       "       12.61261261, 12.63663664, 12.66066066, 12.68468468, 12.70870871,\n",
       "       12.73273273, 12.75675676, 12.78078078, 12.8048048 , 12.82882883,\n",
       "       12.85285285, 12.87687688, 12.9009009 , 12.92492492, 12.94894895,\n",
       "       12.97297297, 12.996997  , 13.02102102, 13.04504505, 13.06906907,\n",
       "       13.09309309, 13.11711712, 13.14114114, 13.16516517, 13.18918919,\n",
       "       13.21321321, 13.23723724, 13.26126126, 13.28528529, 13.30930931,\n",
       "       13.33333333, 13.35735736, 13.38138138, 13.40540541, 13.42942943,\n",
       "       13.45345345, 13.47747748, 13.5015015 , 13.52552553, 13.54954955,\n",
       "       13.57357357, 13.5975976 , 13.62162162, 13.64564565, 13.66966967,\n",
       "       13.69369369, 13.71771772, 13.74174174, 13.76576577, 13.78978979,\n",
       "       13.81381381, 13.83783784, 13.86186186, 13.88588589, 13.90990991,\n",
       "       13.93393393, 13.95795796, 13.98198198, 14.00600601, 14.03003003,\n",
       "       14.05405405, 14.07807808, 14.1021021 , 14.12612613, 14.15015015,\n",
       "       14.17417417, 14.1981982 , 14.22222222, 14.24624625, 14.27027027,\n",
       "       14.29429429, 14.31831832, 14.34234234, 14.36636637, 14.39039039,\n",
       "       14.41441441, 14.43843844, 14.46246246, 14.48648649, 14.51051051,\n",
       "       14.53453453, 14.55855856, 14.58258258, 14.60660661, 14.63063063,\n",
       "       14.65465465, 14.67867868, 14.7027027 , 14.72672673, 14.75075075,\n",
       "       14.77477477, 14.7987988 , 14.82282282, 14.84684685, 14.87087087,\n",
       "       14.89489489, 14.91891892, 14.94294294, 14.96696697, 14.99099099,\n",
       "       15.01501502, 15.03903904, 15.06306306, 15.08708709, 15.11111111,\n",
       "       15.13513514, 15.15915916, 15.18318318, 15.20720721, 15.23123123,\n",
       "       15.25525526, 15.27927928, 15.3033033 , 15.32732733, 15.35135135,\n",
       "       15.37537538, 15.3993994 , 15.42342342, 15.44744745, 15.47147147,\n",
       "       15.4954955 , 15.51951952, 15.54354354, 15.56756757, 15.59159159,\n",
       "       15.61561562, 15.63963964, 15.66366366, 15.68768769, 15.71171171,\n",
       "       15.73573574, 15.75975976, 15.78378378, 15.80780781, 15.83183183,\n",
       "       15.85585586, 15.87987988, 15.9039039 , 15.92792793, 15.95195195,\n",
       "       15.97597598, 16.        , 16.02402402, 16.04804805, 16.07207207,\n",
       "       16.0960961 , 16.12012012, 16.14414414, 16.16816817, 16.19219219,\n",
       "       16.21621622, 16.24024024, 16.26426426, 16.28828829, 16.31231231,\n",
       "       16.33633634, 16.36036036, 16.38438438, 16.40840841, 16.43243243,\n",
       "       16.45645646, 16.48048048, 16.5045045 , 16.52852853, 16.55255255,\n",
       "       16.57657658, 16.6006006 , 16.62462462, 16.64864865, 16.67267267,\n",
       "       16.6966967 , 16.72072072, 16.74474474, 16.76876877, 16.79279279,\n",
       "       16.81681682, 16.84084084, 16.86486486, 16.88888889, 16.91291291,\n",
       "       16.93693694, 16.96096096, 16.98498498, 17.00900901, 17.03303303,\n",
       "       17.05705706, 17.08108108, 17.10510511, 17.12912913, 17.15315315,\n",
       "       17.17717718, 17.2012012 , 17.22522523, 17.24924925, 17.27327327,\n",
       "       17.2972973 , 17.32132132, 17.34534535, 17.36936937, 17.39339339,\n",
       "       17.41741742, 17.44144144, 17.46546547, 17.48948949, 17.51351351,\n",
       "       17.53753754, 17.56156156, 17.58558559, 17.60960961, 17.63363363,\n",
       "       17.65765766, 17.68168168, 17.70570571, 17.72972973, 17.75375375,\n",
       "       17.77777778, 17.8018018 , 17.82582583, 17.84984985, 17.87387387,\n",
       "       17.8978979 , 17.92192192, 17.94594595, 17.96996997, 17.99399399,\n",
       "       18.01801802, 18.04204204, 18.06606607, 18.09009009, 18.11411411,\n",
       "       18.13813814, 18.16216216, 18.18618619, 18.21021021, 18.23423423,\n",
       "       18.25825826, 18.28228228, 18.30630631, 18.33033033, 18.35435435,\n",
       "       18.37837838, 18.4024024 , 18.42642643, 18.45045045, 18.47447447,\n",
       "       18.4984985 , 18.52252252, 18.54654655, 18.57057057, 18.59459459,\n",
       "       18.61861862, 18.64264264, 18.66666667, 18.69069069, 18.71471471,\n",
       "       18.73873874, 18.76276276, 18.78678679, 18.81081081, 18.83483483,\n",
       "       18.85885886, 18.88288288, 18.90690691, 18.93093093, 18.95495495,\n",
       "       18.97897898, 19.003003  , 19.02702703, 19.05105105, 19.07507508,\n",
       "       19.0990991 , 19.12312312, 19.14714715, 19.17117117, 19.1951952 ,\n",
       "       19.21921922, 19.24324324, 19.26726727, 19.29129129, 19.31531532,\n",
       "       19.33933934, 19.36336336, 19.38738739, 19.41141141, 19.43543544,\n",
       "       19.45945946, 19.48348348, 19.50750751, 19.53153153, 19.55555556,\n",
       "       19.57957958, 19.6036036 , 19.62762763, 19.65165165, 19.67567568,\n",
       "       19.6996997 , 19.72372372, 19.74774775, 19.77177177, 19.7957958 ,\n",
       "       19.81981982, 19.84384384, 19.86786787, 19.89189189, 19.91591592,\n",
       "       19.93993994, 19.96396396, 19.98798799, 20.01201201, 20.03603604,\n",
       "       20.06006006, 20.08408408, 20.10810811, 20.13213213, 20.15615616,\n",
       "       20.18018018, 20.2042042 , 20.22822823, 20.25225225, 20.27627628,\n",
       "       20.3003003 , 20.32432432, 20.34834835, 20.37237237, 20.3963964 ,\n",
       "       20.42042042, 20.44444444, 20.46846847, 20.49249249, 20.51651652,\n",
       "       20.54054054, 20.56456456, 20.58858859, 20.61261261, 20.63663664,\n",
       "       20.66066066, 20.68468468, 20.70870871, 20.73273273, 20.75675676,\n",
       "       20.78078078, 20.8048048 , 20.82882883, 20.85285285, 20.87687688,\n",
       "       20.9009009 , 20.92492492, 20.94894895, 20.97297297, 20.996997  ,\n",
       "       21.02102102, 21.04504505, 21.06906907, 21.09309309, 21.11711712,\n",
       "       21.14114114, 21.16516517, 21.18918919, 21.21321321, 21.23723724,\n",
       "       21.26126126, 21.28528529, 21.30930931, 21.33333333, 21.35735736,\n",
       "       21.38138138, 21.40540541, 21.42942943, 21.45345345, 21.47747748,\n",
       "       21.5015015 , 21.52552553, 21.54954955, 21.57357357, 21.5975976 ,\n",
       "       21.62162162, 21.64564565, 21.66966967, 21.69369369, 21.71771772,\n",
       "       21.74174174, 21.76576577, 21.78978979, 21.81381381, 21.83783784,\n",
       "       21.86186186, 21.88588589, 21.90990991, 21.93393393, 21.95795796,\n",
       "       21.98198198, 22.00600601, 22.03003003, 22.05405405, 22.07807808,\n",
       "       22.1021021 , 22.12612613, 22.15015015, 22.17417417, 22.1981982 ,\n",
       "       22.22222222, 22.24624625, 22.27027027, 22.29429429, 22.31831832,\n",
       "       22.34234234, 22.36636637, 22.39039039, 22.41441441, 22.43843844,\n",
       "       22.46246246, 22.48648649, 22.51051051, 22.53453453, 22.55855856,\n",
       "       22.58258258, 22.60660661, 22.63063063, 22.65465465, 22.67867868,\n",
       "       22.7027027 , 22.72672673, 22.75075075, 22.77477477, 22.7987988 ,\n",
       "       22.82282282, 22.84684685, 22.87087087, 22.89489489, 22.91891892,\n",
       "       22.94294294, 22.96696697, 22.99099099, 23.01501502, 23.03903904,\n",
       "       23.06306306, 23.08708709, 23.11111111, 23.13513514, 23.15915916,\n",
       "       23.18318318, 23.20720721, 23.23123123, 23.25525526, 23.27927928,\n",
       "       23.3033033 , 23.32732733, 23.35135135, 23.37537538, 23.3993994 ,\n",
       "       23.42342342, 23.44744745, 23.47147147, 23.4954955 , 23.51951952,\n",
       "       23.54354354, 23.56756757, 23.59159159, 23.61561562, 23.63963964,\n",
       "       23.66366366, 23.68768769, 23.71171171, 23.73573574, 23.75975976,\n",
       "       23.78378378, 23.80780781, 23.83183183, 23.85585586, 23.87987988,\n",
       "       23.9039039 , 23.92792793, 23.95195195, 23.97597598, 24.        ])"
      ]
     },
     "execution_count": 39,
     "metadata": {},
     "output_type": "execute_result"
    }
   ],
   "source": [
    "t_vec"
   ]
  },
  {
   "cell_type": "code",
   "execution_count": 40,
   "metadata": {},
   "outputs": [
    {
     "data": {
      "text/plain": [
       "array([ 9.05451242,  9.0579787 ,  9.06148741,  9.06503844,  9.06863166,\n",
       "        9.07226695,  9.07594418,  9.07966324,  9.08342399,  9.08722632,\n",
       "        9.0910701 ,  9.09495521,  9.09888153,  9.10284893,  9.10685729,\n",
       "        9.11090649,  9.1149964 ,  9.11912691,  9.12329788,  9.1275092 ,\n",
       "        9.13176075,  9.13605239,  9.14038401,  9.14475548,  9.14916669,\n",
       "        9.1536175 ,  9.1581078 ,  9.16263746,  9.16720636,  9.17181438,\n",
       "        9.17646138,  9.18114726,  9.18587189,  9.19063514,  9.19543689,\n",
       "        9.20027702,  9.2051554 ,  9.21007192,  9.21502645,  9.22001886,\n",
       "        9.22504903,  9.23011685,  9.23522218,  9.24036491,  9.24554491,\n",
       "        9.25076206,  9.25601623,  9.26130731,  9.26663516,  9.27199968,\n",
       "        9.27740072,  9.28283818,  9.28831192,  9.29382183,  9.29936778,\n",
       "        9.30494965,  9.31056731,  9.31622065,  9.32190954,  9.32763385,\n",
       "        9.33339347,  9.33918827,  9.34501812,  9.35088291,  9.35678252,\n",
       "        9.36271681,  9.36868567,  9.37468897,  9.38072659,  9.38679841,\n",
       "        9.3929043 ,  9.39904414,  9.40521781,  9.41142519,  9.41766615,\n",
       "        9.42394057,  9.43024832,  9.43658929,  9.44296335,  9.44937037,\n",
       "        9.45581024,  9.46228283,  9.46878802,  9.47532568,  9.4818957 ,\n",
       "        9.48849794,  9.4951323 ,  9.50179863,  9.50849683,  9.51522676,\n",
       "        9.52198831,  9.52878135,  9.53560576,  9.54246141,  9.54934819,\n",
       "        9.55626596,  9.56321462,  9.57019402,  9.57720406,  9.5842446 ,\n",
       "        9.59131553,  9.59841672,  9.60554805,  9.6127094 ,  9.61990064,\n",
       "        9.62712165,  9.6343723 ,  9.64165248,  9.64896206,  9.65630092,\n",
       "        9.66366894,  9.67106598,  9.67849194,  9.68594668,  9.69343008,\n",
       "        9.70094203,  9.70848239,  9.71605104,  9.72364787,  9.73127274,\n",
       "        9.73892554,  9.74660614,  9.75431443,  9.76205026,  9.76981353,\n",
       "        9.77760412,  9.78542189,  9.79326672,  9.80113849,  9.80903709,\n",
       "        9.81696237,  9.82491424,  9.83289255,  9.84089718,  9.84892802,\n",
       "        9.85698494,  9.86506782,  9.87317654,  9.88131096,  9.88947098,\n",
       "        9.89765646,  9.90586728,  9.91410332,  9.92236446,  9.93065057,\n",
       "        9.93896154,  9.94729723,  9.95565752,  9.9640423 ,  9.97245144,\n",
       "        9.98088481,  9.9893423 ,  9.99782377, 10.00632912, 10.0148582 ,\n",
       "       10.02341091, 10.03198712, 10.0405867 , 10.04920953, 10.05785549,\n",
       "       10.06652446, 10.07521631, 10.08393093, 10.09266818, 10.10142794,\n",
       "       10.11021009, 10.11901452, 10.12784109, 10.13668968, 10.14556017,\n",
       "       10.15445243, 10.16336635, 10.17230181, 10.18125866, 10.19023681,\n",
       "       10.19923611, 10.20825645, 10.21729771, 10.22635976, 10.23544248,\n",
       "       10.24454575, 10.25366944, 10.26281343, 10.2719776 , 10.28116183,\n",
       "       10.29036598, 10.29958995, 10.3088336 , 10.31809681, 10.32737947,\n",
       "       10.33668144, 10.3460026 , 10.35534283, 10.36470202, 10.37408003,\n",
       "       10.38347674, 10.39289203, 10.40232577, 10.41177785, 10.42124814,\n",
       "       10.43073651, 10.44024285, 10.44976703, 10.45930893, 10.46886843,\n",
       "       10.47844539, 10.48803971, 10.49765125, 10.50727989, 10.51692552,\n",
       "       10.526588  , 10.53626722, 10.54596305, 10.55567537, 10.56540405,\n",
       "       10.57514898, 10.58491002, 10.59468706, 10.60447998, 10.61428864,\n",
       "       10.62411293, 10.63395273, 10.64380791, 10.65367835, 10.66356392,\n",
       "       10.67346451, 10.68337999, 10.69331023, 10.70325511, 10.71321452,\n",
       "       10.72318833, 10.73317641, 10.74317864, 10.7531949 , 10.76322507,\n",
       "       10.77326902, 10.78332663, 10.79339777, 10.80348234, 10.81358019,\n",
       "       10.82369121, 10.83381527, 10.84395226, 10.85410205, 10.86426451,\n",
       "       10.87443952, 10.88462697, 10.89482672, 10.90503866, 10.91526266,\n",
       "       10.9254986 , 10.93574635, 10.94600579, 10.95627681, 10.96655927,\n",
       "       10.97685305, 10.98715804, 10.9974741 , 11.00780112, 11.01813896,\n",
       "       11.02848752, 11.03884666, 11.04921627, 11.05959621, 11.06998637,\n",
       "       11.08038663, 11.09079685, 11.10121692, 11.11164672, 11.12208612,\n",
       "       11.132535  , 11.14299323, 11.1534607 , 11.16393728, 11.17442284,\n",
       "       11.18491727, 11.19542044, 11.20593222, 11.21645251, 11.22698116,\n",
       "       11.23751806, 11.24806309, 11.25861612, 11.26917703, 11.2797457 ,\n",
       "       11.29032201, 11.30090582, 11.31149702, 11.32209549, 11.3327011 ,\n",
       "       11.34331373, 11.35393325, 11.36455955, 11.3751925 , 11.38583198,\n",
       "       11.39647786, 11.40713002, 11.41778834, 11.4284527 , 11.43912297,\n",
       "       11.44979902, 11.46048075, 11.47116802, 11.4818607 , 11.49255869,\n",
       "       11.50326185, 11.51397006, 11.5246832 , 11.53540115, 11.54612378,\n",
       "       11.55685097, 11.5675826 , 11.57831854, 11.58905867, 11.59980286,\n",
       "       11.61055101, 11.62130297, 11.63205864, 11.64281788, 11.65358057,\n",
       "       11.66434659, 11.67511582, 11.68588814, 11.69666341, 11.70744152,\n",
       "       11.71822235, 11.72900577, 11.73979166, 11.7505799 , 11.76137036,\n",
       "       11.77216291, 11.78295745, 11.79375384, 11.80455196, 11.81535169,\n",
       "       11.82615291, 11.83695548, 11.8477593 , 11.85856424, 11.86937016,\n",
       "       11.88017696, 11.8909845 , 11.90179267, 11.91260134, 11.92341039,\n",
       "       11.9342197 , 11.94502913, 11.95583858, 11.96664792, 11.97745701,\n",
       "       11.98826575, 11.99907401, 12.00988166, 12.02068858, 12.03149465,\n",
       "       12.04229975, 12.05310375, 12.06390653, 12.07470796, 12.08550793,\n",
       "       12.09630631, 12.10710298, 12.11789782, 12.12869069, 12.13948149,\n",
       "       12.15027008, 12.16105634, 12.17184016, 12.1826214 , 12.19339994,\n",
       "       12.20417567, 12.21494845, 12.22571817, 12.23648471, 12.24724793,\n",
       "       12.25800771, 12.26876395, 12.2795165 , 12.29026524, 12.30101007,\n",
       "       12.31175084, 12.32248745, 12.33321975, 12.34394764, 12.35467099,\n",
       "       12.36538968, 12.37610358, 12.38681257, 12.39751653, 12.40821533,\n",
       "       12.41890886, 12.42959698, 12.44027958, 12.45095653, 12.46162771,\n",
       "       12.472293  , 12.48295227, 12.4936054 , 12.50425228, 12.51489276,\n",
       "       12.52552674, 12.53615408, 12.54677468, 12.55738839, 12.56799511,\n",
       "       12.5785947 , 12.58918704, 12.59977202, 12.6103495 , 12.62091937,\n",
       "       12.63148151, 12.64203578, 12.65258206, 12.66312025, 12.6736502 ,\n",
       "       12.68417179, 12.69468492, 12.70518944, 12.71568524, 12.7261722 ,\n",
       "       12.73665019, 12.74711909, 12.75757877, 12.76802912, 12.77847001,\n",
       "       12.78890132, 12.79932292, 12.80973469, 12.82013651, 12.83052826,\n",
       "       12.84090981, 12.85128103, 12.86164182, 12.87199204, 12.88233157,\n",
       "       12.89266028, 12.90297807, 12.91328479, 12.92358033, 12.93386457,\n",
       "       12.94413738, 12.95439864, 12.96464823, 12.97488602, 12.9851119 ,\n",
       "       12.99532573, 13.00552739, 13.01571677, 13.02589373, 13.03605817,\n",
       "       13.04620994, 13.05634894, 13.06647503, 13.0765881 , 13.08668802,\n",
       "       13.09677466, 13.10684791, 13.11690765, 13.12695374, 13.13698607,\n",
       "       13.14700451, 13.15700894, 13.16699924, 13.17697529, 13.18693695,\n",
       "       13.19688412, 13.20681666, 13.21673445, 13.22663737, 13.2365253 ,\n",
       "       13.24639811, 13.25625568, 13.26609789, 13.27592461, 13.28573573,\n",
       "       13.29553111, 13.30531064, 13.3150742 , 13.32482165, 13.33455288,\n",
       "       13.34426776, 13.35396618, 13.363648  , 13.3733131 , 13.38296137,\n",
       "       13.39259268, 13.4022069 , 13.41180392, 13.4213836 , 13.43094584,\n",
       "       13.44049049, 13.45001745, 13.45952659, 13.46901778, 13.4784909 ,\n",
       "       13.48794583, 13.49738245, 13.50680063, 13.51620025, 13.52558119,\n",
       "       13.53494333, 13.54428653, 13.55361068, 13.56291566, 13.57220134,\n",
       "       13.5814676 , 13.59071432, 13.59994137, 13.60914862, 13.61833597,\n",
       "       13.62750328, 13.63665044, 13.64577731, 13.65488378, 13.66396972,\n",
       "       13.673035  , 13.68207952, 13.69110314, 13.70010574, 13.7090872 ,\n",
       "       13.71804739, 13.7269862 , 13.73590349, 13.74479915, 13.75367305,\n",
       "       13.76252507, 13.77135509, 13.78016298, 13.78894862, 13.79771189,\n",
       "       13.80645267, 13.81517083, 13.82386625, 13.8325388 , 13.84118836,\n",
       "       13.84981482, 13.85841804, 13.86699791, 13.8755543 , 13.88408709,\n",
       "       13.89259615, 13.90108136, 13.9095426 , 13.91797975, 13.92639269,\n",
       "       13.93478128, 13.94314541, 13.95148495, 13.95979979, 13.96808979,\n",
       "       13.97635484, 13.98459482, 13.99280959, 14.00099904, 14.00916304,\n",
       "       14.01730147, 14.02541421, 14.03350113, 14.04156212, 14.04959704,\n",
       "       14.05760578, 14.06558822, 14.07354422, 14.08147367, 14.08937644,\n",
       "       14.09725242, 14.10510147, 14.11292347, 14.12071831, 14.12848586,\n",
       "       14.13622599, 14.14393859, 14.15162352, 14.15928068, 14.16690992,\n",
       "       14.17451114, 14.18208421, 14.189629  , 14.19714539, 14.20463326,\n",
       "       14.21209249, 14.21952295, 14.22692452, 14.23429708, 14.24164051,\n",
       "       14.24895467, 14.25623945, 14.26349473, 14.27072038, 14.27791628,\n",
       "       14.28508231, 14.29221833, 14.29932424, 14.30639991, 14.31344521,\n",
       "       14.32046002, 14.32744423, 14.33439769, 14.3413203 , 14.34821193,\n",
       "       14.35507246, 14.36190176, 14.36869971, 14.37546618, 14.38220107,\n",
       "       14.38890423, 14.39557555, 14.40221491, 14.40882218, 14.41539724,\n",
       "       14.42193997, 14.42845024, 14.43492794, 14.44137293, 14.44778509,\n",
       "       14.45416431, 14.46051046, 14.46682341, 14.47310304, 14.47934924,\n",
       "       14.48556187, 14.49174082, 14.49788596, 14.50399716, 14.51007431,\n",
       "       14.51611729, 14.52212596, 14.52810021, 14.53403991, 14.53994494,\n",
       "       14.54581518, 14.55165051, 14.55745079, 14.56321591, 14.56894575,\n",
       "       14.57464019, 14.58029909, 14.58592233, 14.5915098 , 14.59706138,\n",
       "       14.60257692, 14.60805633, 14.61349946, 14.61890621, 14.62427644,\n",
       "       14.62961003, 14.63490686, 14.64016681, 14.64538975, 14.65057556,\n",
       "       14.65572412, 14.66083531, 14.665909  , 14.67094506, 14.67594339,\n",
       "       14.68090384, 14.68582631, 14.69071066, 14.69555677, 14.70036453,\n",
       "       14.7051338 , 14.70986447, 14.71455642, 14.71920951, 14.72382362,\n",
       "       14.72839864, 14.73293445, 14.7374309 , 14.74188789, 14.7463053 ,\n",
       "       14.75068299, 14.75502085, 14.75931874, 14.76357656, 14.76779418,\n",
       "       14.77197147, 14.7761083 , 14.78020457, 14.78426014, 14.78827489,\n",
       "       14.7922487 , 14.79618145, 14.80007301, 14.80392325, 14.80773207,\n",
       "       14.81149933, 14.8152249 , 14.81890868, 14.82255053, 14.82615033,\n",
       "       14.82970797, 14.8332233 , 14.83669622, 14.8401266 , 14.84351432,\n",
       "       14.84685925, 14.85016127, 14.85342026, 14.85663609, 14.85980865,\n",
       "       14.8629378 , 14.86602344, 14.86906542, 14.87206363, 14.87501795,\n",
       "       14.87792826, 14.88079443, 14.88361633, 14.88639385, 14.88912686,\n",
       "       14.89181524, 14.89445887, 14.89705762, 14.89961137, 14.90212   ,\n",
       "       14.90458338, 14.90700139, 14.90937392, 14.91170082, 14.91398199,\n",
       "       14.9162173 , 14.91840663, 14.92054985, 14.92264684, 14.92469747,\n",
       "       14.92670164, 14.9286592 , 14.93057004, 14.93243404, 14.93425107,\n",
       "       14.93602101, 14.93774374, 14.93941913, 14.94104706, 14.94262741,\n",
       "       14.94416005, 14.94564486, 14.94708173, 14.94847052, 14.94981111,\n",
       "       14.95110339, 14.95234721, 14.95354248, 14.95468905, 14.95578682,\n",
       "       14.95683564, 14.95783541, 14.958786  , 14.95968729, 14.96053915,\n",
       "       14.96134145, 14.96209409, 14.96279693, 14.96344985, 14.96405273,\n",
       "       14.96460544, 14.96510787, 14.96555989, 14.96596137, 14.9663122 ,\n",
       "       14.96661224, 14.96686139, 14.9670595 , 14.96720647, 14.96730217,\n",
       "       14.96734647, 14.96733926, 14.96728041, 14.96716979, 14.96700728,\n",
       "       14.96679277, 14.96652612, 14.96620722, 14.96583594, 14.96541216,\n",
       "       14.96493576, 14.9644066 , 14.96382458, 14.96318957, 14.96250143,\n",
       "       14.96176006, 14.96096533, 14.96011711, 14.95921528, 14.95825973,\n",
       "       14.95725032, 14.95618693, 14.95506944, 14.95389773, 14.95267167,\n",
       "       14.95139114, 14.95005603, 14.94866619, 14.94722152, 14.94572189,\n",
       "       14.94416717, 14.94255725, 14.940892  , 14.9391713 , 14.93739501,\n",
       "       14.93556304, 14.93367524, 14.93173149, 14.92973168, 14.92767567,\n",
       "       14.92556336, 14.9233946 , 14.92116929, 14.91888729, 14.91654849,\n",
       "       14.91415276, 14.91169998, 14.90919003, 14.90662278, 14.9039981 ,\n",
       "       14.90131589, 14.898576  , 14.89577833, 14.89292275, 14.89000913,\n",
       "       14.88703735, 14.88400729, 14.88091883, 14.87777184, 14.8745662 ,\n",
       "       14.87130179, 14.86797848, 14.86459615, 14.86115468, 14.85765394,\n",
       "       14.85409382, 14.85047419, 14.84679492, 14.8430559 , 14.83925699,\n",
       "       14.83539808, 14.83147905, 14.82749977, 14.82346011, 14.81935997,\n",
       "       14.8151992 , 14.81097769, 14.80669532, 14.80235196, 14.7979475 ,\n",
       "       14.7934818 , 14.78895474, 14.78436621, 14.77971607, 14.77500421,\n",
       "       14.77023051, 14.76539483, 14.76049706, 14.75553707, 14.75051474,\n",
       "       14.74542995, 14.74028258, 14.7350725 , 14.72979958, 14.72446371,\n",
       "       14.71906477, 14.71360262, 14.70807715, 14.70248824, 14.69683575,\n",
       "       14.69111958, 14.68533958, 14.67949565, 14.67358766, 14.66761549,\n",
       "       14.66157901, 14.65547809, 14.64931263, 14.64308249, 14.63678755,\n",
       "       14.63042769, 14.62400278, 14.61751271, 14.61095734, 14.60433656,\n",
       "       14.59765025, 14.59089827, 14.58408051, 14.57719685, 14.57024715,\n",
       "       14.56323131, 14.55614919, 14.54900068, 14.54178564, 14.53450396,\n",
       "       14.52715551, 14.51974017, 14.51225782, 14.50470834, 14.4970916 ,\n",
       "       14.48940747, 14.48165584, 14.47383659, 14.46594958, 14.4579947 ,\n",
       "       14.44997182, 14.44188083, 14.43372159, 14.42549399, 14.4171979 ,\n",
       "       14.40883319, 14.40039976, 14.39189746, 14.38332619, 14.37468581,\n",
       "       14.36597621, 14.35719726, 14.34834883, 14.33943081, 14.33044308,\n",
       "       14.3213855 , 14.31225796, 14.30306033, 14.29379249, 14.28445432,\n",
       "       14.27504569, 14.26556648, 14.25601658, 14.24639584, 14.23670416,\n",
       "       14.22694141, 14.21710747, 14.20720221, 14.19722551, 14.18717724,\n",
       "       14.17705729, 14.16686553, 14.15660184, 14.1462661 , 14.13585818,\n",
       "       14.12537796, 14.11482531, 14.10420012, 14.09350226, 14.08273161,\n",
       "       14.07188804, 14.06097143, 14.04998166, 14.03891861, 14.02778215,\n",
       "       14.01657216, 14.00528851, 13.99393109, 13.98249978, 13.97099443,\n",
       "       13.95941495, 13.94776119, 13.93603305, 13.92423039, 13.91235309,\n",
       "       13.90040104, 13.8883741 , 13.87627215, 13.86409508, 13.85184275,\n",
       "       13.83951505, 13.82711185, 13.81463303, 13.80207847, 13.78944804,\n",
       "       13.77674162, 13.76395908, 13.75110032, 13.73816519, 13.72515358,\n",
       "       13.71206537, 13.69890042, 13.68565863, 13.67233987, 13.65894401,\n",
       "       13.64547092, 13.6319205 , 13.61829261, 13.60458713, 13.59080394,\n",
       "       13.57694292, 13.56300394, 13.54898688, 13.53489161, 13.52071802,\n",
       "       13.50646598, 13.49213537, 13.47772606, 13.46323793, 13.44867087,\n",
       "       13.43402474, 13.41929942, 13.40449479, 13.38961073, 13.37464711,\n",
       "       13.35960381, 13.34448071, 13.32927769, 13.31399462, 13.29863137])"
      ]
     },
     "execution_count": 40,
     "metadata": {},
     "output_type": "execute_result"
    }
   ],
   "source": [
    "residual_smooth_linear"
   ]
  },
  {
   "cell_type": "code",
   "execution_count": 42,
   "metadata": {},
   "outputs": [
    {
     "data": {
      "text/plain": [
       "array([1., 1., 1., 1., 1., 1., 1., 1., 1., 1., 1., 1., 1., 1., 1., 1., 1.,\n",
       "       1., 1., 1., 1., 1., 1., 1., 1., 1., 1., 1., 1., 1., 1., 1., 1., 1.,\n",
       "       1., 1., 1., 1., 1., 1., 1., 1., 1., 1., 1., 1., 1., 1., 1., 1., 1.,\n",
       "       1., 1., 1., 1., 1., 1., 1., 1., 1., 1., 1., 1., 1., 1., 1., 1., 1.,\n",
       "       1., 1., 1., 1., 1., 1., 1., 1., 1., 1., 1., 1., 1., 1., 1., 1., 1.,\n",
       "       1., 1., 1., 1., 1., 1., 1., 1., 1., 1., 1., 1., 1., 1., 1., 1., 1.,\n",
       "       1., 1., 1., 1., 1., 1., 1., 1., 1., 1., 1., 1., 1., 1., 1., 1., 1.,\n",
       "       1., 1., 1., 1., 1., 1., 1., 1., 1., 1., 1., 1., 1., 1., 1., 1., 1.,\n",
       "       1., 1., 1., 1., 1., 1., 1., 1., 1., 1., 1., 1., 1., 1., 1., 1., 1.,\n",
       "       1., 1., 1., 1., 1., 1., 1., 1., 1., 1., 1., 1., 1., 1., 1., 1., 1.,\n",
       "       1., 1., 1., 1., 1., 1., 1., 1., 1., 1., 1., 1., 1., 1., 1., 1., 1.,\n",
       "       1., 1., 1., 1., 1., 1., 1., 1., 1., 1., 1., 1., 1., 1., 1., 1., 1.,\n",
       "       1., 1., 1., 1., 1., 1., 1., 1., 1., 1., 1., 1., 1., 1., 1., 1., 1.,\n",
       "       1., 1., 1., 1., 1., 1., 1., 1., 1., 1., 1., 1., 1., 1., 1., 1., 1.,\n",
       "       1., 1., 1., 1., 1., 1., 1., 1., 1., 1., 1., 1., 1., 1., 1., 1., 1.,\n",
       "       1., 1., 1., 1., 1., 1., 1., 1., 1., 1., 1., 1., 1., 1., 1., 1., 1.,\n",
       "       1., 1., 1., 1., 1., 1., 1., 1., 1., 1., 1., 1., 1., 1., 1., 1., 1.,\n",
       "       1., 1., 1., 1., 1., 1., 1., 1., 1., 1., 1., 1., 1., 1., 1., 1., 1.,\n",
       "       1., 1., 1., 1., 1., 1., 1., 1., 1., 1., 1., 1., 1., 1., 1., 1., 1.,\n",
       "       1., 1., 1., 1., 1., 1., 1., 1., 1., 1., 1., 1., 1., 1., 1., 1., 1.,\n",
       "       1., 1., 1., 1., 1., 1., 1., 1., 1., 1., 1., 1., 1., 1., 1., 1., 1.,\n",
       "       1., 1., 1., 1., 1., 1., 1., 1., 1., 1., 1., 1., 1., 1., 1., 1., 1.,\n",
       "       1., 1., 1., 1., 1., 1., 1., 1., 1., 1., 1., 1., 1., 1., 1., 1., 1.,\n",
       "       1., 1., 1., 1., 1., 1., 1., 1., 1., 1., 1., 1., 1., 1., 1., 1., 1.,\n",
       "       1., 1., 1., 1., 1., 1., 1., 1., 1., 1., 1., 1., 1., 1., 1., 1., 1.,\n",
       "       1., 1., 1., 1., 1., 1., 1., 1., 1., 1., 1., 1., 1., 1., 1., 1., 1.,\n",
       "       1., 1., 1., 1., 1., 1., 1., 1., 1., 1., 1., 1., 1., 1., 1., 1., 1.,\n",
       "       1., 1., 1., 1., 1., 1., 1., 1., 1., 1., 1., 1., 1., 1., 1., 1., 1.,\n",
       "       1., 1., 1., 1., 1., 1., 1., 1., 1., 1., 1., 1., 1., 1., 1., 1., 1.,\n",
       "       1., 1., 1., 1., 1., 1., 1., 1., 1., 1., 1., 1., 1., 1., 1., 1., 1.,\n",
       "       1., 1., 1., 1., 1., 1., 1., 1., 1., 1., 1., 1., 1., 1., 1., 1., 1.,\n",
       "       1., 1., 1., 1., 1., 1., 1., 1., 1., 1., 1., 1., 1., 1., 1., 1., 1.,\n",
       "       1., 1., 1., 1., 1., 1., 1., 1., 1., 1., 1., 1., 1., 1., 1., 1., 1.,\n",
       "       1., 1., 1., 1., 1., 1., 1., 1., 1., 1., 1., 1., 1., 1., 1., 1., 1.,\n",
       "       1., 1., 1., 1., 1., 1., 1., 1., 1., 1., 1., 1., 1., 1., 1., 1., 1.,\n",
       "       1., 1., 1., 1., 1., 1., 1., 1., 1., 1., 1., 1., 1., 1., 1., 1., 1.,\n",
       "       1., 1., 1., 1., 1., 1., 1., 1., 1., 1., 1., 1., 1., 1., 1., 1., 1.,\n",
       "       1., 1., 1., 1., 1., 1., 1., 1., 1., 1., 1., 1., 1., 1., 1., 1., 1.,\n",
       "       1., 1., 1., 1., 1., 1., 1., 1., 1., 1., 1., 1., 1., 1., 1., 1., 1.,\n",
       "       1., 1., 1., 1., 1., 1., 1., 1., 1., 1., 1., 1., 1., 1., 1., 1., 1.,\n",
       "       1., 1., 1., 1., 1., 1., 1., 1., 1., 1., 1., 1., 1., 1., 1., 1., 1.,\n",
       "       1., 1., 1., 1., 1., 1., 1., 1., 1., 1., 1., 1., 1., 1., 1., 1., 1.,\n",
       "       1., 1., 1., 1., 1., 1., 1., 1., 1., 1., 1., 1., 1., 1., 1., 1., 1.,\n",
       "       1., 1., 1., 1., 1., 1., 1., 1., 1., 1., 1., 1., 1., 1., 1., 1., 1.,\n",
       "       1., 1., 1., 1., 1., 1., 1., 1., 1., 1., 1., 1., 1., 1., 1., 1., 1.,\n",
       "       1., 1., 1., 1., 1., 1., 1., 1., 1., 1., 1., 1., 1., 1., 1., 1., 1.,\n",
       "       1., 1., 1., 1., 1., 1., 1., 1., 1., 1., 1., 1., 1., 1., 1., 1., 1.,\n",
       "       1., 1., 1., 1., 1., 1., 1., 1., 1., 1., 1., 1., 1., 1., 1., 1., 1.,\n",
       "       1., 1., 1., 1., 1., 1., 1., 1., 1., 1., 1., 1., 1., 1., 1., 1., 1.,\n",
       "       1., 1., 1., 1., 1., 1., 1., 1., 1., 1., 1., 1., 1., 1., 1., 1., 1.,\n",
       "       1., 1., 1., 1., 1., 1., 1., 1., 1., 1., 1., 1., 1., 1., 1., 1., 1.,\n",
       "       1., 1., 1., 1., 1., 1., 1., 1., 1., 1., 1., 1., 1., 1., 1., 1., 1.,\n",
       "       1., 1., 1., 1., 1., 1., 1., 1., 1., 1., 1., 1., 1., 1., 1., 1., 1.,\n",
       "       1., 1., 1., 1., 1., 1., 1., 1., 1., 1., 1., 1., 1., 1., 1., 1., 1.,\n",
       "       1., 1., 1., 1., 1., 1., 1., 1., 1., 1., 1., 1., 1., 1., 1., 1., 1.,\n",
       "       1., 1., 1., 1., 1., 1., 1., 1., 1., 1., 1., 1., 1., 1., 1., 1., 1.,\n",
       "       1., 1., 1., 1., 1., 1., 1., 1., 1., 1., 1., 1., 1., 1., 1., 1., 1.,\n",
       "       1., 1., 1., 1., 1., 1., 1., 1., 1., 1., 1., 1., 1., 1., 1., 1., 1.,\n",
       "       1., 1., 1., 1., 1., 1., 1., 1., 1., 1., 1., 1., 1., 1.])"
      ]
     },
     "execution_count": 42,
     "metadata": {},
     "output_type": "execute_result"
    }
   ],
   "source": [
    "log_N_vec"
   ]
  },
  {
   "cell_type": "code",
   "execution_count": 56,
   "metadata": {},
   "outputs": [
    {
     "data": {
      "image/png": "[encoded data removed]",
      "text/plain": [
       "<Figure size 1440x1080 with 1 Axes>"
      ]
     },
     "metadata": {
      "needs_background": "light"
     },
     "output_type": "display_data"
    }
   ],
   "source": [
    "plt.rcParams['figure.figsize'] = [20, 15]\n",
    "#Linear\n",
    "result_linear = np.log(N_rand) + fit_linear_NLLS.residual\n",
    "plt.plot(t, result_linear, 'y.', markersize = 15, label = \"Linear\")\n",
    "# Get a smooth curve by plugging a time vector to the fitted logistic model\n",
    "t_vec = np.linspace(0,24,1000)\n",
    "log_N_vec = np.ones(len(t_vec))\n",
    "residual_smooth_linear = residuals_linear(fit_linear_NLLS.params, t_vec, log_N_vec)\n",
    "plt.plot(t_vec, residual_smooth_linear + log_N_vec, 'orange', linestyle = '--', linewidth = 1)\n",
    "\n",
    "# Logistic\n",
    "result_logistic = np.log(N_rand) + fit_logistic.residual\n",
    "plt.plot(t, result_logistic, 'b.', markersize = 15, label = 'logistic')\n",
    "# Get a smooth cure by plugging a time vector to the fitted logistic model\n",
    "t_vec = np.linspace(0, 24, 1000)\n",
    "log_N_vec = np.ones(len(t_vec))\n",
    "residual_smooth_logistic = residuals_logistic(fit_logistic.params, t_vec, log_N_vec)\n",
    "plt.plot(t_vec, residual_smooth_logistic + log_N_vec, 'blue', linestyle = '--', linewidth = 1)\n",
    "\n",
    "# Gompertz\n",
    "result_gompertz = np.log(N_rand) + fit_gompertz.residual\n",
    "plt.plot(t, result_gompertz, 'g.', markersize = 15, label = 'Gompertz')\n",
    "# Get a smooth curve by plugging a time vector to the fitted Gompertz model\n",
    "t_vec = np.linspace(0, 24, 1000)\n",
    "log_N_vec = np.ones(len(t_vec))\n",
    "residual_smooth_gompertz = residuals_gompertz(fit_gompertz.params, t_vec, log_N_vec)\n",
    "plt.plot(t_vec, residual_smooth_gompertz + log_N_vec, 'green', linestyle = '--', linewidth = 1)\n",
    "\n",
    "# Plot data points\n",
    "plt.plot(t, np.log(N_rand), 'r+', markersize = 15, markeredgewidth = 2, label = 'Data')\n",
    "\n",
    "# Plot legend\n",
    "plt.legend(fontsize = 20)\n",
    "plt.xlabel(r'$t$', fontsize = 20)\n",
    "plt.ylabel(r'$\\log(N_t)$', fontsize = 20)\n",
    "plt.ticklabel_format(style = 'scientific', scilimits = [0, 3])"
   ]
  },
  {
   "cell_type": "markdown",
   "metadata": {},
   "source": [
    "## Richards' curve"
   ]
  },
  {
   "cell_type": "code",
   "execution_count": 51,
   "metadata": {},
   "outputs": [],
   "source": [
    "# Define the parameter object\n",
    "params_genlogistic = Parameters()\n",
    "#Add parameters and initial values\n",
    "params_genlogistic.add('A', value = 10, min = 0)\n",
    "params_genlogistic.add('K', value = 16, min = 0)\n",
    "params_genlogistic.add('Q', value = 0.5, min = 0)\n",
    "params_genlogistic.add('B', value = 1, min = 0)\n",
    "params_genlogistic.add('mu', value = 0.1, min = 0)\n",
    "params_genlogistic.add('T', value = 7.5, min = 0)"
   ]
  },
  {
   "cell_type": "code",
   "execution_count": 58,
   "metadata": {},
   "outputs": [],
   "source": [
    "# Define the model \n",
    "def residuals_genlogistic(params, t, data):\n",
    "    ''' Model a logistic growth and substract data '''\n",
    "    # Get an ordered dictionary of parameter values\n",
    "    v = params.valuesdict()\n",
    "    # Logistic model\n",
    "    model = v['A'] + (v['K'] - v['A']) / \\\n",
    "    (1 + v['Q'] * np.exp(-v['B'] * (t - v['T']))) ** (1 / v['mu'])\n",
    "    # Return residuals\n",
    "    return model - data"
   ]
  },
  {
   "cell_type": "code",
   "execution_count": 59,
   "metadata": {},
   "outputs": [],
   "source": [
    "# Perform the fit\n",
    "## Create a minimizer\n",
    "minner = Minimizer(residuals_genlogistic, params_genlogistic, fcn_args = (t, np.log(N_rand)))\n",
    "\n",
    "# Perform the minimization\n",
    "fit_genlogistic = minner.minimize()"
   ]
  },
  {
   "cell_type": "code",
   "execution_count": 60,
   "metadata": {},
   "outputs": [
    {
     "name": "stdout",
     "output_type": "stream",
     "text": [
      "[[Fit Statistics]]\n",
      "    # fitting method   = leastsq\n",
      "    # function evals   = 101\n",
      "    # data points      = 12\n",
      "    # variables        = 6\n",
      "    chi-square         = 0.10205216\n",
      "    reduced chi-square = 0.01700869\n",
      "    Akaike info crit   = -45.2061349\n",
      "    Bayesian info crit = -42.2966950\n",
      "[[Variables]]\n",
      "    A:   10.3556844 +/- 0.11496799 (1.11%) (init = 10)\n",
      "    K:   15.6198051 +/- 0.07890403 (0.51%) (init = 16)\n",
      "    Q:   1.29948606 +/- 794933.544 (61172917.98%) (init = 0.5)\n",
      "    B:   0.43866161 +/- 0.07343543 (16.74%) (init = 1)\n",
      "    mu:  0.26876764 +/- 0.39923962 (148.54%) (init = 0.1)\n",
      "    T:   3.81422158 +/- 1394535.21 (36561462.98%) (init = 7.5)\n",
      "[[Correlations]] (unreported correlations are < 0.100)\n",
      "    C(Q, T)  = -1.000\n",
      "    C(B, mu) =  0.893\n",
      "    C(K, B)  = -0.634\n",
      "    C(A, mu) = -0.585\n",
      "    C(K, mu) = -0.457\n",
      "    C(A, B)  = -0.357\n",
      "    C(A, Q)  = -0.194\n",
      "    C(A, T)  =  0.194\n",
      "    C(A, K)  =  0.146\n"
     ]
    }
   ],
   "source": [
    "report_fit(fit_genlogistic)"
   ]
  },
  {
   "cell_type": "code",
   "execution_count": 63,
   "metadata": {},
   "outputs": [
    {
     "data": {
      "image/png": "[encoded data removed]",
      "text/plain": [
       "<Figure size 1440x1080 with 1 Axes>"
      ]
     },
     "metadata": {
      "needs_background": "light"
     },
     "output_type": "display_data"
    }
   ],
   "source": [
    "plt.rcParams['figure.figsize'] = [20, 15]\n",
    "#Linear\n",
    "result_linear = np.log(N_rand) + fit_linear_NLLS.residual\n",
    "plt.plot(t, result_linear, 'y.', markersize = 15, label = \"Linear\")\n",
    "# Get a smooth curve by plugging a time vector to the fitted logistic model\n",
    "t_vec = np.linspace(0,24,1000)\n",
    "log_N_vec = np.ones(len(t_vec))\n",
    "residual_smooth_linear = residuals_linear(fit_linear_NLLS.params, t_vec, log_N_vec)\n",
    "plt.plot(t_vec, residual_smooth_linear + log_N_vec, 'orange', linestyle = '--', linewidth = 1)\n",
    "\n",
    "# Logistic\n",
    "result_logistic = np.log(N_rand) + fit_logistic.residual\n",
    "plt.plot(t, result_logistic, 'b.', markersize = 15, label = 'logistic')\n",
    "# Get a smooth cure by plugging a time vector to the fitted logistic model\n",
    "t_vec = np.linspace(0, 24, 1000)\n",
    "log_N_vec = np.ones(len(t_vec))\n",
    "residual_smooth_logistic = residuals_logistic(fit_logistic.params, t_vec, log_N_vec)\n",
    "plt.plot(t_vec, residual_smooth_logistic + log_N_vec, 'blue', linestyle = '--', linewidth = 1)\n",
    "\n",
    "# Gompertz\n",
    "result_gompertz = np.log(N_rand) + fit_gompertz.residual\n",
    "plt.plot(t, result_gompertz, 'g.', markersize = 15, label = 'Gompertz')\n",
    "# Get a smooth curve by plugging a time vector to the fitted Gompertz model\n",
    "t_vec = np.linspace(0, 24, 1000)\n",
    "log_N_vec = np.ones(len(t_vec))\n",
    "residual_smooth_gompertz = residuals_gompertz(fit_gompertz.params, t_vec, log_N_vec)\n",
    "plt.plot(t_vec, residual_smooth_gompertz + log_N_vec, 'green', linestyle = '--', linewidth = 1)\n",
    "\n",
    "# Generalized Logistic\n",
    "result_genlogistic = np.log(N_rand) + fit_genlogistic.residual\n",
    "plt.plot(t, result_genlogistic, '.', markerfacecolor = 'magenta', markeredgecolor = 'magenta',\n",
    "         markersize = 15, label = 'Generalized Logistic')\n",
    "# Get a smooth curve by plugging a time vector to the fitted Gompertz model\n",
    "t_vec = np.linspace(0, 24, 1000)\n",
    "log_N_vec = np.ones(len(t_vec))\n",
    "residual_smooth_genlogistic = residuals_genlogistic(fit_genlogistic.params, t_vec, log_N_vec)\n",
    "plt.plot(t_vec, residual_smooth_genlogistic + log_N_vec, 'red', linestyle = '--', linewidth = 1)\n",
    "\n",
    "# Plot data points\n",
    "plt.plot(t, np.log(N_rand), 'r+', markersize = 15, markeredgewidth = 2, label = 'Data')\n",
    "\n",
    "# Plot legend\n",
    "plt.legend(fontsize = 20)\n",
    "plt.xlabel(r'$t$', fontsize = 20)\n",
    "plt.ylabel(r'$\\log(N_t)$', fontsize = 20)\n",
    "plt.ticklabel_format(style = 'scientific', scilimits = [0, 3])"
   ]
  },
  {
   "cell_type": "code",
   "execution_count": null,
   "metadata": {},
   "outputs": [],
   "source": []
  }
 ],
 "metadata": {
  "kernelspec": {
   "display_name": "Python 3",
   "language": "python",
   "name": "python3"
  },
  "language_info": {
   "codemirror_mode": {
    "name": "ipython",
    "version": 3
   },
   "file_extension": ".py",
   "mimetype": "text/x-python",
   "name": "python",
   "nbconvert_exporter": "python",
   "pygments_lexer": "ipython3",
   "version": "3.8.3"
  }
 },
 "nbformat": 4,
 "nbformat_minor": 4
}
