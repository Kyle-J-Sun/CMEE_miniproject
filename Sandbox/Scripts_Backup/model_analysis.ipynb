{
 "metadata": {
  "language_info": {
   "codemirror_mode": {
    "name": "ipython",
    "version": 3
   },
   "file_extension": ".py",
   "mimetype": "text/x-python",
   "name": "python",
   "nbconvert_exporter": "python",
   "pygments_lexer": "ipython3",
   "version": "3.8.3-final"
  },
  "orig_nbformat": 2,
  "kernelspec": {
   "name": "python3",
   "display_name": "Python 3"
  }
 },
 "nbformat": 4,
 "nbformat_minor": 2,
 "cells": [
  {
   "source": [
    "# Analysis of Fitting Data of Models"
   ],
   "cell_type": "markdown",
   "metadata": {}
  },
  {
   "source": [
    "## Things to be done\n",
    "- Read tables of fitting info from results directory and transform it as DataFrame\n",
    "- Merge ID, aic, bic, aicc, rsq columns as one table\n",
    "- Add best_fit column to find the model with the lowest aicc value\n",
    "- Calculate percentage of each model with lowest aicc value during fitting all IDs\n",
    "- Plot bar chart of the percentage"
   ],
   "cell_type": "markdown",
   "metadata": {}
  },
  {
   "cell_type": "code",
   "execution_count": 1,
   "metadata": {},
   "outputs": [],
   "source": [
    "# import packages\n",
    "import pandas as pd\n",
    "import numpy as np\n",
    "import matplotlib as plt\n"
   ]
  },
  {
   "cell_type": "code",
   "execution_count": 4,
   "metadata": {},
   "outputs": [],
   "source": [
    "quad_fitting_info = pd.DataFrame(pd.read_csv(\"../Results/Fitting_info/quad_info.csv\"))\n",
    "cubic_fitting_info = pd.DataFrame(pd.read_csv(\"../Results/Fitting_info/cubic_info.csv\"))\n",
    "briere_fitting_info = pd.DataFrame(pd.read_csv(\"../Results/Fitting_info/Briere_info.csv\"))\n",
    "school_fitting_info = pd.DataFrame(pd.read_csv(\"../Results/Fitting_info/Schoolfield_info.csv\"))\n",
    "arr_before = pd.DataFrame(pd.read_csv(\"../Results/Fitting_info/Arrhenius_before_info.csv\"))\n",
    "arr_after = pd.DataFrame(pd.read_csv(\"../Results/Fitting_info/Arrhenius_after_info.csv\"))\n",
    "\n",
    "quad_subset = quad_fitting_info[[\"id\", \"aic\", \"bic\", \"aicc\", \"Rsq\"]]\n",
    "quad_subset = quad_subset.rename(columns = {\"aic\": \"quad_aic\", \"bic\": \"quad_bic\", \"aicc\": \"quad_aicc\", \"Rsq\": \"quad_Rsquared\"})\n",
    "\n",
    "cubic_subset = cubic_fitting_info[[\"aic\", \"bic\", \"aicc\", \"Rsq\"]]\n",
    "cubic_subset = cubic_subset.rename(columns = {\"aic\": \"cubic_aic\", \"bic\": \"cubic_bic\", \"aicc\": \"cubic_aicc\", \"Rsq\": \"cubic_Rsquared\"})\n",
    "\n",
    "briere_subset = briere_fitting_info[[\"aic\", \"bic\", \"aicc\", \"Rsq\"]]\n",
    "briere_subset = briere_subset.rename(columns = {\"aic\": \"briere_aic\", \"bic\": \"briere_bic\", \"aicc\": \"briere_aicc\", \"Rsq\": \"briere_Rsquared\"})\n",
    "\n",
    "school_subset = school_fitting_info[[\"aic\", \"bic\", \"aicc\", \"Rsq\"]]\n",
    "school_subset = school_subset.rename(columns = {\"aic\": \"school_aic\", \"bic\": \"school_bic\", \"aicc\": \"school_aicc\", \"Rsq\": \"school_Rsquared\"})"
   ]
  },
  {
   "cell_type": "code",
   "execution_count": 3,
   "metadata": {},
   "outputs": [
    {
     "output_type": "execute_result",
     "data": {
      "text/plain": [
       "      id        B0         E          Th        Eh    chisqr           RSS  \\\n",
       "673  690  9.992345  2.887872  297.400735  4.117591  3.105119  3.920878e+06   \n",
       "\n",
       "              TSS       Rsq         aic         bic  aicc   RSS_log  TSS_log  \\\n",
       "673  3.330986e+06 -0.177092  107.367663  106.534701   NaN  3.105119  3.63255   \n",
       "\n",
       "      Rsq_log    aic_log    bic_log  aicc_log  \n",
       "673  0.145196  22.242055  23.075017       NaN  "
      ],
      "text/html": "<div>\n<style scoped>\n    .dataframe tbody tr th:only-of-type {\n        vertical-align: middle;\n    }\n\n    .dataframe tbody tr th {\n        vertical-align: top;\n    }\n\n    .dataframe thead th {\n        text-align: right;\n    }\n</style>\n<table border=\"1\" class=\"dataframe\">\n  <thead>\n    <tr style=\"text-align: right;\">\n      <th></th>\n      <th>id</th>\n      <th>B0</th>\n      <th>E</th>\n      <th>Th</th>\n      <th>Eh</th>\n      <th>chisqr</th>\n      <th>RSS</th>\n      <th>TSS</th>\n      <th>Rsq</th>\n      <th>aic</th>\n      <th>bic</th>\n      <th>aicc</th>\n      <th>RSS_log</th>\n      <th>TSS_log</th>\n      <th>Rsq_log</th>\n      <th>aic_log</th>\n      <th>bic_log</th>\n      <th>aicc_log</th>\n    </tr>\n  </thead>\n  <tbody>\n    <tr>\n      <th>673</th>\n      <td>690</td>\n      <td>9.992345</td>\n      <td>2.887872</td>\n      <td>297.400735</td>\n      <td>4.117591</td>\n      <td>3.105119</td>\n      <td>3.920878e+06</td>\n      <td>3.330986e+06</td>\n      <td>-0.177092</td>\n      <td>107.367663</td>\n      <td>106.534701</td>\n      <td>NaN</td>\n      <td>3.105119</td>\n      <td>3.63255</td>\n      <td>0.145196</td>\n      <td>22.242055</td>\n      <td>23.075017</td>\n      <td>NaN</td>\n    </tr>\n  </tbody>\n</table>\n</div>"
     },
     "metadata": {},
     "execution_count": 3
    }
   ],
   "source": [
    "school_fitting_info[school_fitting_info[\"id\"] == 690]"
   ]
  },
  {
   "cell_type": "code",
   "execution_count": 5,
   "metadata": {},
   "outputs": [
    {
     "output_type": "execute_result",
     "data": {
      "text/plain": [
       "     Unnamed: 0   id  B0_log_after_deactivation  E_after_deactivation  \\\n",
       "673           0  690                   0.000018             68.541473   \n",
       "\n",
       "     RSS_after_deactivation  TSS_after_deactivation  Rsq_after_deactivation  \\\n",
       "673                     NaN                     NaN                     NaN   \n",
       "\n",
       "     aic_after_deactivation  bic_after_deactivation  aicc_after_deactivation  \n",
       "673                     NaN                     NaN                      NaN  "
      ],
      "text/html": "<div>\n<style scoped>\n    .dataframe tbody tr th:only-of-type {\n        vertical-align: middle;\n    }\n\n    .dataframe tbody tr th {\n        vertical-align: top;\n    }\n\n    .dataframe thead th {\n        text-align: right;\n    }\n</style>\n<table border=\"1\" class=\"dataframe\">\n  <thead>\n    <tr style=\"text-align: right;\">\n      <th></th>\n      <th>Unnamed: 0</th>\n      <th>id</th>\n      <th>B0_log_after_deactivation</th>\n      <th>E_after_deactivation</th>\n      <th>RSS_after_deactivation</th>\n      <th>TSS_after_deactivation</th>\n      <th>Rsq_after_deactivation</th>\n      <th>aic_after_deactivation</th>\n      <th>bic_after_deactivation</th>\n      <th>aicc_after_deactivation</th>\n    </tr>\n  </thead>\n  <tbody>\n    <tr>\n      <th>673</th>\n      <td>0</td>\n      <td>690</td>\n      <td>0.000018</td>\n      <td>68.541473</td>\n      <td>NaN</td>\n      <td>NaN</td>\n      <td>NaN</td>\n      <td>NaN</td>\n      <td>NaN</td>\n      <td>NaN</td>\n    </tr>\n  </tbody>\n</table>\n</div>"
     },
     "metadata": {},
     "execution_count": 5
    }
   ],
   "source": [
    "arr_after[arr_after[\"id\"] == 690]"
   ]
  },
  {
   "cell_type": "code",
   "execution_count": 6,
   "metadata": {},
   "outputs": [
    {
     "output_type": "execute_result",
     "data": {
      "text/plain": [
       "        briere_aic   briere_bic  briere_aicc  briere_Rsquared\n",
       "count   629.000000   629.000000   629.000000       629.000000\n",
       "mean     35.349120    35.956091    42.357368         0.450308\n",
       "std      80.027237    80.942723    79.521422         1.508798\n",
       "min    -111.659948  -108.826631  -110.059948       -19.373846\n",
       "25%       5.607180     6.342890    14.345011         0.574405\n",
       "50%      30.857002    31.621528    39.576073         0.869171\n",
       "75%      48.770880    49.338990    56.792088         0.966855\n",
       "max    1416.963261  1428.613228  1417.030867         0.999417"
      ],
      "text/html": "<div>\n<style scoped>\n    .dataframe tbody tr th:only-of-type {\n        vertical-align: middle;\n    }\n\n    .dataframe tbody tr th {\n        vertical-align: top;\n    }\n\n    .dataframe thead th {\n        text-align: right;\n    }\n</style>\n<table border=\"1\" class=\"dataframe\">\n  <thead>\n    <tr style=\"text-align: right;\">\n      <th></th>\n      <th>briere_aic</th>\n      <th>briere_bic</th>\n      <th>briere_aicc</th>\n      <th>briere_Rsquared</th>\n    </tr>\n  </thead>\n  <tbody>\n    <tr>\n      <th>count</th>\n      <td>629.000000</td>\n      <td>629.000000</td>\n      <td>629.000000</td>\n      <td>629.000000</td>\n    </tr>\n    <tr>\n      <th>mean</th>\n      <td>35.349120</td>\n      <td>35.956091</td>\n      <td>42.357368</td>\n      <td>0.450308</td>\n    </tr>\n    <tr>\n      <th>std</th>\n      <td>80.027237</td>\n      <td>80.942723</td>\n      <td>79.521422</td>\n      <td>1.508798</td>\n    </tr>\n    <tr>\n      <th>min</th>\n      <td>-111.659948</td>\n      <td>-108.826631</td>\n      <td>-110.059948</td>\n      <td>-19.373846</td>\n    </tr>\n    <tr>\n      <th>25%</th>\n      <td>5.607180</td>\n      <td>6.342890</td>\n      <td>14.345011</td>\n      <td>0.574405</td>\n    </tr>\n    <tr>\n      <th>50%</th>\n      <td>30.857002</td>\n      <td>31.621528</td>\n      <td>39.576073</td>\n      <td>0.869171</td>\n    </tr>\n    <tr>\n      <th>75%</th>\n      <td>48.770880</td>\n      <td>49.338990</td>\n      <td>56.792088</td>\n      <td>0.966855</td>\n    </tr>\n    <tr>\n      <th>max</th>\n      <td>1416.963261</td>\n      <td>1428.613228</td>\n      <td>1417.030867</td>\n      <td>0.999417</td>\n    </tr>\n  </tbody>\n</table>\n</div>"
     },
     "metadata": {},
     "execution_count": 6
    }
   ],
   "source": [
    "briere_subset.describe()"
   ]
  },
  {
   "cell_type": "code",
   "execution_count": 7,
   "metadata": {},
   "outputs": [
    {
     "output_type": "execute_result",
     "data": {
      "text/plain": [
       "        school_aic   school_bic  school_aicc  school_Rsquared\n",
       "count   629.000000   629.000000   629.000000       629.000000\n",
       "mean     54.048994    54.858289    73.676995       -19.714627\n",
       "std     245.586155   246.727436   244.454663       260.142779\n",
       "min    -195.067436  -179.042023  -194.967685     -5803.995426\n",
       "25%       9.900519    10.450130    30.757206         0.076890\n",
       "50%      35.815237    36.182998    57.222400         0.688434\n",
       "75%      62.617662    62.908125    84.587993         0.938768\n",
       "max    5493.872514  5511.699593  5493.935805         0.999832"
      ],
      "text/html": "<div>\n<style scoped>\n    .dataframe tbody tr th:only-of-type {\n        vertical-align: middle;\n    }\n\n    .dataframe tbody tr th {\n        vertical-align: top;\n    }\n\n    .dataframe thead th {\n        text-align: right;\n    }\n</style>\n<table border=\"1\" class=\"dataframe\">\n  <thead>\n    <tr style=\"text-align: right;\">\n      <th></th>\n      <th>school_aic</th>\n      <th>school_bic</th>\n      <th>school_aicc</th>\n      <th>school_Rsquared</th>\n    </tr>\n  </thead>\n  <tbody>\n    <tr>\n      <th>count</th>\n      <td>629.000000</td>\n      <td>629.000000</td>\n      <td>629.000000</td>\n      <td>629.000000</td>\n    </tr>\n    <tr>\n      <th>mean</th>\n      <td>54.048994</td>\n      <td>54.858289</td>\n      <td>73.676995</td>\n      <td>-19.714627</td>\n    </tr>\n    <tr>\n      <th>std</th>\n      <td>245.586155</td>\n      <td>246.727436</td>\n      <td>244.454663</td>\n      <td>260.142779</td>\n    </tr>\n    <tr>\n      <th>min</th>\n      <td>-195.067436</td>\n      <td>-179.042023</td>\n      <td>-194.967685</td>\n      <td>-5803.995426</td>\n    </tr>\n    <tr>\n      <th>25%</th>\n      <td>9.900519</td>\n      <td>10.450130</td>\n      <td>30.757206</td>\n      <td>0.076890</td>\n    </tr>\n    <tr>\n      <th>50%</th>\n      <td>35.815237</td>\n      <td>36.182998</td>\n      <td>57.222400</td>\n      <td>0.688434</td>\n    </tr>\n    <tr>\n      <th>75%</th>\n      <td>62.617662</td>\n      <td>62.908125</td>\n      <td>84.587993</td>\n      <td>0.938768</td>\n    </tr>\n    <tr>\n      <th>max</th>\n      <td>5493.872514</td>\n      <td>5511.699593</td>\n      <td>5493.935805</td>\n      <td>0.999832</td>\n    </tr>\n  </tbody>\n</table>\n</div>"
     },
     "metadata": {},
     "execution_count": 7
    }
   ],
   "source": [
    "school_subset.describe()"
   ]
  },
  {
   "cell_type": "code",
   "execution_count": 50,
   "metadata": {},
   "outputs": [
    {
     "output_type": "execute_result",
     "data": {
      "text/plain": [
       "[      id   quad_aic   quad_bic  quad_aicc  quad_Rsquared\n",
       " 0      3  -0.810193   0.097562   7.189807       0.414072\n",
       " 1      4 -12.470234 -12.632503   7.529766       0.982559\n",
       " 2      5 -20.604592 -19.149872 -14.890307       0.926296\n",
       " 3      6 -24.806162 -24.567837 -11.472828       0.900916\n",
       " 4      8  -1.934454  -1.696130  11.398879       0.993327\n",
       " ..   ...        ...        ...        ...            ...\n",
       " 624  851 -77.620671 -75.925823 -72.620671       0.997344\n",
       " 625  900  -4.749234  -5.373956  35.250766       0.996802\n",
       " 626  901  18.456168  17.831447  58.456168       0.847264\n",
       " 627  902   0.102563  -0.522158  40.102563       0.994516\n",
       " 628  903   2.946419   2.321697  42.946419       0.983130\n",
       " \n",
       " [629 rows x 5 columns],\n",
       "      cubic_aic  cubic_bic  cubic_aicc  cubic_Rsquared\n",
       " 0    -3.050255  -1.839915    4.949745        0.616557\n",
       " 1   -12.668439 -12.884798    7.331561        0.987259\n",
       " 2   -19.071221 -17.131595  -13.356936        0.929107\n",
       " 3   -22.941231 -22.623465   -9.607898        0.902575\n",
       " 4     0.003168   0.320935   13.336502        0.993379\n",
       " ..         ...        ...         ...             ...\n",
       " 624 -81.529328 -79.269531  -76.529328        0.998314\n",
       " 625  -2.798135  -3.631097   37.201865        0.996828\n",
       " 626   5.862094   5.029132   45.862094        0.986585\n",
       " 627  -5.923917  -6.756879   34.076083        0.998561\n",
       " 628   4.903467   4.070505   44.903467        0.983250\n",
       " \n",
       " [629 rows x 4 columns],\n",
       "      briere_aic  briere_bic  briere_aicc  briere_Rsquared\n",
       " 0     -1.637893   -0.730138     2.362107         0.460616\n",
       " 1    -14.843520  -15.005790    -6.843520         0.987574\n",
       " 2    -20.524264  -19.069544   -17.524264         0.925801\n",
       " 3    -24.223333  -23.985008   -18.223333         0.893428\n",
       " 4     23.038182   23.276506    29.038182         0.848636\n",
       " ..          ...         ...          ...              ...\n",
       " 624  -80.044872  -78.350024   -77.378205         0.997796\n",
       " 625   35.413996   34.789274    47.413996        -1.581994\n",
       " 626   24.543584   23.918863    36.543584         0.578728\n",
       " 627   -0.741003   -1.365724    11.258997         0.995235\n",
       " 628    5.607180    4.982458    17.607180         0.973715\n",
       " \n",
       " [629 rows x 4 columns],\n",
       "      school_aic  school_bic  school_aicc  school_Rsquared\n",
       " 0      2.471891    3.682231    10.471891         0.333923\n",
       " 1      1.533005    1.316646    21.533005         0.903110\n",
       " 2    -16.260106  -14.320479   -10.545820         0.910393\n",
       " 3    -20.181484  -19.863717    -6.848150         0.862441\n",
       " 4     40.157205   40.474972    53.490539        -0.001814\n",
       " ..          ...         ...          ...              ...\n",
       " 624   -5.668502   -3.408704    -0.668502         0.423084\n",
       " 625   31.754103   30.921141    71.754103        -0.005260\n",
       " 626   22.392873   21.559911    62.392873         0.789077\n",
       " 627   17.476093   16.643131    57.476093         0.928898\n",
       " 628   17.895555   17.062592    57.895555         0.853982\n",
       " \n",
       " [629 rows x 4 columns]]"
      ]
     },
     "metadata": {},
     "execution_count": 50
    }
   ],
   "source": [
    "frames = [quad_subset, cubic_subset, briere_subset, school_subset]\n",
    "frames"
   ]
  },
  {
   "cell_type": "code",
   "execution_count": 51,
   "metadata": {},
   "outputs": [
    {
     "output_type": "execute_result",
     "data": {
      "text/plain": [
       "      id   quad_aic   quad_bic  quad_aicc  quad_Rsquared  cubic_aic  \\\n",
       "0      3  -0.810193   0.097562   7.189807       0.414072  -3.050255   \n",
       "1      4 -12.470234 -12.632503   7.529766       0.982559 -12.668439   \n",
       "2      5 -20.604592 -19.149872 -14.890307       0.926296 -19.071221   \n",
       "3      6 -24.806162 -24.567837 -11.472828       0.900916 -22.941231   \n",
       "4      8  -1.934454  -1.696130  11.398879       0.993327   0.003168   \n",
       "..   ...        ...        ...        ...            ...        ...   \n",
       "624  851 -77.620671 -75.925823 -72.620671       0.997344 -81.529328   \n",
       "625  900  -4.749234  -5.373956  35.250766       0.996802  -2.798135   \n",
       "626  901  18.456168  17.831447  58.456168       0.847264   5.862094   \n",
       "627  902   0.102563  -0.522158  40.102563       0.994516  -5.923917   \n",
       "628  903   2.946419   2.321697  42.946419       0.983130   4.903467   \n",
       "\n",
       "     cubic_bic  cubic_aicc  cubic_Rsquared  briere_aic  briere_bic  \\\n",
       "0    -1.839915    4.949745        0.616557   -1.637893   -0.730138   \n",
       "1   -12.884798    7.331561        0.987259  -14.843520  -15.005790   \n",
       "2   -17.131595  -13.356936        0.929107  -20.524264  -19.069544   \n",
       "3   -22.623465   -9.607898        0.902575  -24.223333  -23.985008   \n",
       "4     0.320935   13.336502        0.993379   23.038182   23.276506   \n",
       "..         ...         ...             ...         ...         ...   \n",
       "624 -79.269531  -76.529328        0.998314  -80.044872  -78.350024   \n",
       "625  -3.631097   37.201865        0.996828   35.413996   34.789274   \n",
       "626   5.029132   45.862094        0.986585   24.543584   23.918863   \n",
       "627  -6.756879   34.076083        0.998561   -0.741003   -1.365724   \n",
       "628   4.070505   44.903467        0.983250    5.607180    4.982458   \n",
       "\n",
       "     briere_aicc  briere_Rsquared  school_aic  school_bic  school_aicc  \\\n",
       "0       2.362107         0.460616    2.471891    3.682231    10.471891   \n",
       "1      -6.843520         0.987574    1.533005    1.316646    21.533005   \n",
       "2     -17.524264         0.925801  -16.260106  -14.320479   -10.545820   \n",
       "3     -18.223333         0.893428  -20.181484  -19.863717    -6.848150   \n",
       "4      29.038182         0.848636   40.157205   40.474972    53.490539   \n",
       "..           ...              ...         ...         ...          ...   \n",
       "624   -77.378205         0.997796   -5.668502   -3.408704    -0.668502   \n",
       "625    47.413996        -1.581994   31.754103   30.921141    71.754103   \n",
       "626    36.543584         0.578728   22.392873   21.559911    62.392873   \n",
       "627    11.258997         0.995235   17.476093   16.643131    57.476093   \n",
       "628    17.607180         0.973715   17.895555   17.062592    57.895555   \n",
       "\n",
       "     school_Rsquared  \n",
       "0           0.333923  \n",
       "1           0.903110  \n",
       "2           0.910393  \n",
       "3           0.862441  \n",
       "4          -0.001814  \n",
       "..               ...  \n",
       "624         0.423084  \n",
       "625        -0.005260  \n",
       "626         0.789077  \n",
       "627         0.928898  \n",
       "628         0.853982  \n",
       "\n",
       "[629 rows x 17 columns]"
      ],
      "text/html": "<div>\n<style scoped>\n    .dataframe tbody tr th:only-of-type {\n        vertical-align: middle;\n    }\n\n    .dataframe tbody tr th {\n        vertical-align: top;\n    }\n\n    .dataframe thead th {\n        text-align: right;\n    }\n</style>\n<table border=\"1\" class=\"dataframe\">\n  <thead>\n    <tr style=\"text-align: right;\">\n      <th></th>\n      <th>id</th>\n      <th>quad_aic</th>\n      <th>quad_bic</th>\n      <th>quad_aicc</th>\n      <th>quad_Rsquared</th>\n      <th>cubic_aic</th>\n      <th>cubic_bic</th>\n      <th>cubic_aicc</th>\n      <th>cubic_Rsquared</th>\n      <th>briere_aic</th>\n      <th>briere_bic</th>\n      <th>briere_aicc</th>\n      <th>briere_Rsquared</th>\n      <th>school_aic</th>\n      <th>school_bic</th>\n      <th>school_aicc</th>\n      <th>school_Rsquared</th>\n    </tr>\n  </thead>\n  <tbody>\n    <tr>\n      <th>0</th>\n      <td>3</td>\n      <td>-0.810193</td>\n      <td>0.097562</td>\n      <td>7.189807</td>\n      <td>0.414072</td>\n      <td>-3.050255</td>\n      <td>-1.839915</td>\n      <td>4.949745</td>\n      <td>0.616557</td>\n      <td>-1.637893</td>\n      <td>-0.730138</td>\n      <td>2.362107</td>\n      <td>0.460616</td>\n      <td>2.471891</td>\n      <td>3.682231</td>\n      <td>10.471891</td>\n      <td>0.333923</td>\n    </tr>\n    <tr>\n      <th>1</th>\n      <td>4</td>\n      <td>-12.470234</td>\n      <td>-12.632503</td>\n      <td>7.529766</td>\n      <td>0.982559</td>\n      <td>-12.668439</td>\n      <td>-12.884798</td>\n      <td>7.331561</td>\n      <td>0.987259</td>\n      <td>-14.843520</td>\n      <td>-15.005790</td>\n      <td>-6.843520</td>\n      <td>0.987574</td>\n      <td>1.533005</td>\n      <td>1.316646</td>\n      <td>21.533005</td>\n      <td>0.903110</td>\n    </tr>\n    <tr>\n      <th>2</th>\n      <td>5</td>\n      <td>-20.604592</td>\n      <td>-19.149872</td>\n      <td>-14.890307</td>\n      <td>0.926296</td>\n      <td>-19.071221</td>\n      <td>-17.131595</td>\n      <td>-13.356936</td>\n      <td>0.929107</td>\n      <td>-20.524264</td>\n      <td>-19.069544</td>\n      <td>-17.524264</td>\n      <td>0.925801</td>\n      <td>-16.260106</td>\n      <td>-14.320479</td>\n      <td>-10.545820</td>\n      <td>0.910393</td>\n    </tr>\n    <tr>\n      <th>3</th>\n      <td>6</td>\n      <td>-24.806162</td>\n      <td>-24.567837</td>\n      <td>-11.472828</td>\n      <td>0.900916</td>\n      <td>-22.941231</td>\n      <td>-22.623465</td>\n      <td>-9.607898</td>\n      <td>0.902575</td>\n      <td>-24.223333</td>\n      <td>-23.985008</td>\n      <td>-18.223333</td>\n      <td>0.893428</td>\n      <td>-20.181484</td>\n      <td>-19.863717</td>\n      <td>-6.848150</td>\n      <td>0.862441</td>\n    </tr>\n    <tr>\n      <th>4</th>\n      <td>8</td>\n      <td>-1.934454</td>\n      <td>-1.696130</td>\n      <td>11.398879</td>\n      <td>0.993327</td>\n      <td>0.003168</td>\n      <td>0.320935</td>\n      <td>13.336502</td>\n      <td>0.993379</td>\n      <td>23.038182</td>\n      <td>23.276506</td>\n      <td>29.038182</td>\n      <td>0.848636</td>\n      <td>40.157205</td>\n      <td>40.474972</td>\n      <td>53.490539</td>\n      <td>-0.001814</td>\n    </tr>\n    <tr>\n      <th>...</th>\n      <td>...</td>\n      <td>...</td>\n      <td>...</td>\n      <td>...</td>\n      <td>...</td>\n      <td>...</td>\n      <td>...</td>\n      <td>...</td>\n      <td>...</td>\n      <td>...</td>\n      <td>...</td>\n      <td>...</td>\n      <td>...</td>\n      <td>...</td>\n      <td>...</td>\n      <td>...</td>\n      <td>...</td>\n    </tr>\n    <tr>\n      <th>624</th>\n      <td>851</td>\n      <td>-77.620671</td>\n      <td>-75.925823</td>\n      <td>-72.620671</td>\n      <td>0.997344</td>\n      <td>-81.529328</td>\n      <td>-79.269531</td>\n      <td>-76.529328</td>\n      <td>0.998314</td>\n      <td>-80.044872</td>\n      <td>-78.350024</td>\n      <td>-77.378205</td>\n      <td>0.997796</td>\n      <td>-5.668502</td>\n      <td>-3.408704</td>\n      <td>-0.668502</td>\n      <td>0.423084</td>\n    </tr>\n    <tr>\n      <th>625</th>\n      <td>900</td>\n      <td>-4.749234</td>\n      <td>-5.373956</td>\n      <td>35.250766</td>\n      <td>0.996802</td>\n      <td>-2.798135</td>\n      <td>-3.631097</td>\n      <td>37.201865</td>\n      <td>0.996828</td>\n      <td>35.413996</td>\n      <td>34.789274</td>\n      <td>47.413996</td>\n      <td>-1.581994</td>\n      <td>31.754103</td>\n      <td>30.921141</td>\n      <td>71.754103</td>\n      <td>-0.005260</td>\n    </tr>\n    <tr>\n      <th>626</th>\n      <td>901</td>\n      <td>18.456168</td>\n      <td>17.831447</td>\n      <td>58.456168</td>\n      <td>0.847264</td>\n      <td>5.862094</td>\n      <td>5.029132</td>\n      <td>45.862094</td>\n      <td>0.986585</td>\n      <td>24.543584</td>\n      <td>23.918863</td>\n      <td>36.543584</td>\n      <td>0.578728</td>\n      <td>22.392873</td>\n      <td>21.559911</td>\n      <td>62.392873</td>\n      <td>0.789077</td>\n    </tr>\n    <tr>\n      <th>627</th>\n      <td>902</td>\n      <td>0.102563</td>\n      <td>-0.522158</td>\n      <td>40.102563</td>\n      <td>0.994516</td>\n      <td>-5.923917</td>\n      <td>-6.756879</td>\n      <td>34.076083</td>\n      <td>0.998561</td>\n      <td>-0.741003</td>\n      <td>-1.365724</td>\n      <td>11.258997</td>\n      <td>0.995235</td>\n      <td>17.476093</td>\n      <td>16.643131</td>\n      <td>57.476093</td>\n      <td>0.928898</td>\n    </tr>\n    <tr>\n      <th>628</th>\n      <td>903</td>\n      <td>2.946419</td>\n      <td>2.321697</td>\n      <td>42.946419</td>\n      <td>0.983130</td>\n      <td>4.903467</td>\n      <td>4.070505</td>\n      <td>44.903467</td>\n      <td>0.983250</td>\n      <td>5.607180</td>\n      <td>4.982458</td>\n      <td>17.607180</td>\n      <td>0.973715</td>\n      <td>17.895555</td>\n      <td>17.062592</td>\n      <td>57.895555</td>\n      <td>0.853982</td>\n    </tr>\n  </tbody>\n</table>\n<p>629 rows × 17 columns</p>\n</div>"
     },
     "metadata": {},
     "execution_count": 51
    }
   ],
   "source": [
    "all_fitting_info = pd.concat(frames, axis=1)\n",
    "all_fitting_info"
   ]
  },
  {
   "cell_type": "code",
   "execution_count": 79,
   "metadata": {},
   "outputs": [
    {
     "output_type": "execute_result",
     "data": {
      "text/plain": [
       "      id   quad_aic   quad_bic  quad_aicc  quad_Rsquared  cubic_aic  \\\n",
       "0      3  -0.810193   0.097562   7.189807       0.414072  -3.050255   \n",
       "1      4 -12.470234 -12.632503   7.529766       0.982559 -12.668439   \n",
       "2      5 -20.604592 -19.149872 -14.890307       0.926296 -19.071221   \n",
       "3      6 -24.806162 -24.567837 -11.472828       0.900916 -22.941231   \n",
       "4      8  -1.934454  -1.696130  11.398879       0.993327   0.003168   \n",
       "..   ...        ...        ...        ...            ...        ...   \n",
       "624  851 -77.620671 -75.925823 -72.620671       0.997344 -81.529328   \n",
       "625  900  -4.749234  -5.373956  35.250766       0.996802  -2.798135   \n",
       "626  901  18.456168  17.831447  58.456168       0.847264   5.862094   \n",
       "627  902   0.102563  -0.522158  40.102563       0.994516  -5.923917   \n",
       "628  903   2.946419   2.321697  42.946419       0.983130   4.903467   \n",
       "\n",
       "     cubic_bic  cubic_aicc  cubic_Rsquared  briere_aic  briere_bic  \\\n",
       "0    -1.839915    4.949745        0.616557   -1.637893   -0.730138   \n",
       "1   -12.884798    7.331561        0.987259  -14.843520  -15.005790   \n",
       "2   -17.131595  -13.356936        0.929107  -20.524264  -19.069544   \n",
       "3   -22.623465   -9.607898        0.902575  -24.223333  -23.985008   \n",
       "4     0.320935   13.336502        0.993379   23.038182   23.276506   \n",
       "..         ...         ...             ...         ...         ...   \n",
       "624 -79.269531  -76.529328        0.998314  -80.044872  -78.350024   \n",
       "625  -3.631097   37.201865        0.996828   35.413996   34.789274   \n",
       "626   5.029132   45.862094        0.986585   24.543584   23.918863   \n",
       "627  -6.756879   34.076083        0.998561   -0.741003   -1.365724   \n",
       "628   4.070505   44.903467        0.983250    5.607180    4.982458   \n",
       "\n",
       "     briere_aicc  briere_Rsquared  school_aic  school_bic  school_aicc  \\\n",
       "0       2.362107         0.460616    2.471891    3.682231    10.471891   \n",
       "1      -6.843520         0.987574    1.533005    1.316646    21.533005   \n",
       "2     -17.524264         0.925801  -16.260106  -14.320479   -10.545820   \n",
       "3     -18.223333         0.893428  -20.181484  -19.863717    -6.848150   \n",
       "4      29.038182         0.848636   40.157205   40.474972    53.490539   \n",
       "..           ...              ...         ...         ...          ...   \n",
       "624   -77.378205         0.997796   -5.668502   -3.408704    -0.668502   \n",
       "625    47.413996        -1.581994   31.754103   30.921141    71.754103   \n",
       "626    36.543584         0.578728   22.392873   21.559911    62.392873   \n",
       "627    11.258997         0.995235   17.476093   16.643131    57.476093   \n",
       "628    17.607180         0.973715   17.895555   17.062592    57.895555   \n",
       "\n",
       "     school_Rsquared     best_fit  \n",
       "0           0.333923  briere_aicc  \n",
       "1           0.903110  briere_aicc  \n",
       "2           0.910393  briere_aicc  \n",
       "3           0.862441  briere_aicc  \n",
       "4          -0.001814    quad_aicc  \n",
       "..               ...          ...  \n",
       "624         0.423084  briere_aicc  \n",
       "625        -0.005260    quad_aicc  \n",
       "626         0.789077  briere_aicc  \n",
       "627         0.928898  briere_aicc  \n",
       "628         0.853982  briere_aicc  \n",
       "\n",
       "[629 rows x 18 columns]"
      ],
      "text/html": "<div>\n<style scoped>\n    .dataframe tbody tr th:only-of-type {\n        vertical-align: middle;\n    }\n\n    .dataframe tbody tr th {\n        vertical-align: top;\n    }\n\n    .dataframe thead th {\n        text-align: right;\n    }\n</style>\n<table border=\"1\" class=\"dataframe\">\n  <thead>\n    <tr style=\"text-align: right;\">\n      <th></th>\n      <th>id</th>\n      <th>quad_aic</th>\n      <th>quad_bic</th>\n      <th>quad_aicc</th>\n      <th>quad_Rsquared</th>\n      <th>cubic_aic</th>\n      <th>cubic_bic</th>\n      <th>cubic_aicc</th>\n      <th>cubic_Rsquared</th>\n      <th>briere_aic</th>\n      <th>briere_bic</th>\n      <th>briere_aicc</th>\n      <th>briere_Rsquared</th>\n      <th>school_aic</th>\n      <th>school_bic</th>\n      <th>school_aicc</th>\n      <th>school_Rsquared</th>\n      <th>best_fit</th>\n    </tr>\n  </thead>\n  <tbody>\n    <tr>\n      <th>0</th>\n      <td>3</td>\n      <td>-0.810193</td>\n      <td>0.097562</td>\n      <td>7.189807</td>\n      <td>0.414072</td>\n      <td>-3.050255</td>\n      <td>-1.839915</td>\n      <td>4.949745</td>\n      <td>0.616557</td>\n      <td>-1.637893</td>\n      <td>-0.730138</td>\n      <td>2.362107</td>\n      <td>0.460616</td>\n      <td>2.471891</td>\n      <td>3.682231</td>\n      <td>10.471891</td>\n      <td>0.333923</td>\n      <td>briere_aicc</td>\n    </tr>\n    <tr>\n      <th>1</th>\n      <td>4</td>\n      <td>-12.470234</td>\n      <td>-12.632503</td>\n      <td>7.529766</td>\n      <td>0.982559</td>\n      <td>-12.668439</td>\n      <td>-12.884798</td>\n      <td>7.331561</td>\n      <td>0.987259</td>\n      <td>-14.843520</td>\n      <td>-15.005790</td>\n      <td>-6.843520</td>\n      <td>0.987574</td>\n      <td>1.533005</td>\n      <td>1.316646</td>\n      <td>21.533005</td>\n      <td>0.903110</td>\n      <td>briere_aicc</td>\n    </tr>\n    <tr>\n      <th>2</th>\n      <td>5</td>\n      <td>-20.604592</td>\n      <td>-19.149872</td>\n      <td>-14.890307</td>\n      <td>0.926296</td>\n      <td>-19.071221</td>\n      <td>-17.131595</td>\n      <td>-13.356936</td>\n      <td>0.929107</td>\n      <td>-20.524264</td>\n      <td>-19.069544</td>\n      <td>-17.524264</td>\n      <td>0.925801</td>\n      <td>-16.260106</td>\n      <td>-14.320479</td>\n      <td>-10.545820</td>\n      <td>0.910393</td>\n      <td>briere_aicc</td>\n    </tr>\n    <tr>\n      <th>3</th>\n      <td>6</td>\n      <td>-24.806162</td>\n      <td>-24.567837</td>\n      <td>-11.472828</td>\n      <td>0.900916</td>\n      <td>-22.941231</td>\n      <td>-22.623465</td>\n      <td>-9.607898</td>\n      <td>0.902575</td>\n      <td>-24.223333</td>\n      <td>-23.985008</td>\n      <td>-18.223333</td>\n      <td>0.893428</td>\n      <td>-20.181484</td>\n      <td>-19.863717</td>\n      <td>-6.848150</td>\n      <td>0.862441</td>\n      <td>briere_aicc</td>\n    </tr>\n    <tr>\n      <th>4</th>\n      <td>8</td>\n      <td>-1.934454</td>\n      <td>-1.696130</td>\n      <td>11.398879</td>\n      <td>0.993327</td>\n      <td>0.003168</td>\n      <td>0.320935</td>\n      <td>13.336502</td>\n      <td>0.993379</td>\n      <td>23.038182</td>\n      <td>23.276506</td>\n      <td>29.038182</td>\n      <td>0.848636</td>\n      <td>40.157205</td>\n      <td>40.474972</td>\n      <td>53.490539</td>\n      <td>-0.001814</td>\n      <td>quad_aicc</td>\n    </tr>\n    <tr>\n      <th>...</th>\n      <td>...</td>\n      <td>...</td>\n      <td>...</td>\n      <td>...</td>\n      <td>...</td>\n      <td>...</td>\n      <td>...</td>\n      <td>...</td>\n      <td>...</td>\n      <td>...</td>\n      <td>...</td>\n      <td>...</td>\n      <td>...</td>\n      <td>...</td>\n      <td>...</td>\n      <td>...</td>\n      <td>...</td>\n      <td>...</td>\n    </tr>\n    <tr>\n      <th>624</th>\n      <td>851</td>\n      <td>-77.620671</td>\n      <td>-75.925823</td>\n      <td>-72.620671</td>\n      <td>0.997344</td>\n      <td>-81.529328</td>\n      <td>-79.269531</td>\n      <td>-76.529328</td>\n      <td>0.998314</td>\n      <td>-80.044872</td>\n      <td>-78.350024</td>\n      <td>-77.378205</td>\n      <td>0.997796</td>\n      <td>-5.668502</td>\n      <td>-3.408704</td>\n      <td>-0.668502</td>\n      <td>0.423084</td>\n      <td>briere_aicc</td>\n    </tr>\n    <tr>\n      <th>625</th>\n      <td>900</td>\n      <td>-4.749234</td>\n      <td>-5.373956</td>\n      <td>35.250766</td>\n      <td>0.996802</td>\n      <td>-2.798135</td>\n      <td>-3.631097</td>\n      <td>37.201865</td>\n      <td>0.996828</td>\n      <td>35.413996</td>\n      <td>34.789274</td>\n      <td>47.413996</td>\n      <td>-1.581994</td>\n      <td>31.754103</td>\n      <td>30.921141</td>\n      <td>71.754103</td>\n      <td>-0.005260</td>\n      <td>quad_aicc</td>\n    </tr>\n    <tr>\n      <th>626</th>\n      <td>901</td>\n      <td>18.456168</td>\n      <td>17.831447</td>\n      <td>58.456168</td>\n      <td>0.847264</td>\n      <td>5.862094</td>\n      <td>5.029132</td>\n      <td>45.862094</td>\n      <td>0.986585</td>\n      <td>24.543584</td>\n      <td>23.918863</td>\n      <td>36.543584</td>\n      <td>0.578728</td>\n      <td>22.392873</td>\n      <td>21.559911</td>\n      <td>62.392873</td>\n      <td>0.789077</td>\n      <td>briere_aicc</td>\n    </tr>\n    <tr>\n      <th>627</th>\n      <td>902</td>\n      <td>0.102563</td>\n      <td>-0.522158</td>\n      <td>40.102563</td>\n      <td>0.994516</td>\n      <td>-5.923917</td>\n      <td>-6.756879</td>\n      <td>34.076083</td>\n      <td>0.998561</td>\n      <td>-0.741003</td>\n      <td>-1.365724</td>\n      <td>11.258997</td>\n      <td>0.995235</td>\n      <td>17.476093</td>\n      <td>16.643131</td>\n      <td>57.476093</td>\n      <td>0.928898</td>\n      <td>briere_aicc</td>\n    </tr>\n    <tr>\n      <th>628</th>\n      <td>903</td>\n      <td>2.946419</td>\n      <td>2.321697</td>\n      <td>42.946419</td>\n      <td>0.983130</td>\n      <td>4.903467</td>\n      <td>4.070505</td>\n      <td>44.903467</td>\n      <td>0.983250</td>\n      <td>5.607180</td>\n      <td>4.982458</td>\n      <td>17.607180</td>\n      <td>0.973715</td>\n      <td>17.895555</td>\n      <td>17.062592</td>\n      <td>57.895555</td>\n      <td>0.853982</td>\n      <td>briere_aicc</td>\n    </tr>\n  </tbody>\n</table>\n<p>629 rows × 18 columns</p>\n</div>"
     },
     "metadata": {},
     "execution_count": 79
    }
   ],
   "source": [
    "fitting_info_aicc = all_fitting_info[\n",
    "    [\"quad_aicc\", \"cubic_aicc\", \"briere_aicc\", \"school_aicc\"]]\n",
    "fitting_info_aicc['best_fit'] = fitting_info_aicc.idxmin(axis = 1)\n",
    "all_fitting_info[\"best_fit\"] = fitting_info_aicc[\"best_fit\"]\n",
    "all_fitting_info"
   ]
  },
  {
   "cell_type": "code",
   "execution_count": 82,
   "metadata": {},
   "outputs": [],
   "source": [
    "best_briere = len(fitting_info_aicc[fitting_info_aicc.best_fit == \"briere_aicc\"]) / len(fitting_info_aicc)\n",
    "best_quad = len(fitting_info_aicc[fitting_info_aicc.best_fit == \"quad_aicc\"]) / len(fitting_info_aicc)\n",
    "best_cubic = len(fitting_info_aicc[fitting_info_aicc.best_fit == \"cubic_aicc\"]) / len(fitting_info_aicc)\n",
    "best_school = len(fitting_info_aicc[fitting_info_aicc.best_fit == \"school_aicc\"]) / len(fitting_info_aicc)"
   ]
  },
  {
   "cell_type": "code",
   "execution_count": 86,
   "metadata": {},
   "outputs": [
    {
     "output_type": "stream",
     "name": "stdout",
     "text": [
      "The ratio of Briere model with lowerst AICc value in all fitted ID is 0.558029\nThe ratio of Simplified Schoolfield model with lowerst AICc value in all fitted ID is 0.001590 \nThe ratio of quadratic model with lowerst AICc value in all fitted ID is 0.127186\nThe ratio of cubic model with lowerst AICc value in all fitted ID is 0.313196\n"
     ]
    }
   ],
   "source": [
    "print(\"The ratio of Briere model with lowerst AICc value in all fitted ID is %3f\" % best_briere)\n",
    "print(\"The ratio of Simplified Schoolfield model with lowerst AICc value in all fitted ID is %3f \" % best_school)\n",
    "print(\"The ratio of quadratic model with lowerst AICc value in all fitted ID is %3f\" % best_quad)\n",
    "print(\"The ratio of cubic model with lowerst AICc value in all fitted ID is %3f\" % best_cubic)"
   ]
  },
  {
   "cell_type": "code",
   "execution_count": 88,
   "metadata": {},
   "outputs": [
    {
     "output_type": "execute_result",
     "data": {
      "text/plain": [
       "(array([351.,   0.,   0.,  80.,   0.,   0., 197.,   0.,   0.,   1.]),\n",
       " array([0. , 0.3, 0.6, 0.9, 1.2, 1.5, 1.8, 2.1, 2.4, 2.7, 3. ]),\n",
       " <a list of 10 Patch objects>)"
      ]
     },
     "metadata": {},
     "execution_count": 88
    },
    {
     "output_type": "display_data",
     "data": {
      "text/plain": "<Figure size 432x288 with 1 Axes>",
      "image/svg+xml": "<?xml version=\"1.0\" encoding=\"utf-8\" standalone=\"no\"?>\n<!DOCTYPE svg PUBLIC \"-//W3C//DTD SVG 1.1//EN\"\n  \"http://www.w3.org/Graphics/SVG/1.1/DTD/svg11.dtd\">\n<!-- Created with matplotlib (https://matplotlib.org/) -->\n<svg height=\"248.79625pt\" version=\"1.1\" viewBox=\"0 0 388.551349 248.79625\" width=\"388.551349pt\" xmlns=\"http://www.w3.org/2000/svg\" xmlns:xlink=\"http://www.w3.org/1999/xlink\">\n <defs>\n  <style type=\"text/css\">\n*{stroke-linecap:butt;stroke-linejoin:round;}\n  </style>\n </defs>\n <g id=\"figure_1\">\n  <g id=\"patch_1\">\n   <path d=\"M 0 248.79625 \nL 388.551349 248.79625 \nL 388.551349 0 \nL 0 0 \nz\n\" style=\"fill:none;\"/>\n  </g>\n  <g id=\"axes_1\">\n   <g id=\"patch_2\">\n    <path d=\"M 33.2875 224.64 \nL 368.0875 224.64 \nL 368.0875 7.2 \nL 33.2875 7.2 \nz\n\" style=\"fill:#ffffff;\"/>\n   </g>\n   <g id=\"patch_3\">\n    <path clip-path=\"url(#p5dab250aa1)\" d=\"M 48.505682 224.64 \nL 78.942045 224.64 \nL 78.942045 17.554286 \nL 48.505682 17.554286 \nz\n\" style=\"fill:#1f77b4;\"/>\n   </g>\n   <g id=\"patch_4\">\n    <path clip-path=\"url(#p5dab250aa1)\" d=\"M 78.942045 224.64 \nL 109.378409 224.64 \nL 109.378409 224.64 \nL 78.942045 224.64 \nz\n\" style=\"fill:#1f77b4;\"/>\n   </g>\n   <g id=\"patch_5\">\n    <path clip-path=\"url(#p5dab250aa1)\" d=\"M 109.378409 224.64 \nL 139.814773 224.64 \nL 139.814773 224.64 \nL 109.378409 224.64 \nz\n\" style=\"fill:#1f77b4;\"/>\n   </g>\n   <g id=\"patch_6\">\n    <path clip-path=\"url(#p5dab250aa1)\" d=\"M 139.814773 224.64 \nL 170.251136 224.64 \nL 170.251136 177.440977 \nL 139.814773 177.440977 \nz\n\" style=\"fill:#1f77b4;\"/>\n   </g>\n   <g id=\"patch_7\">\n    <path clip-path=\"url(#p5dab250aa1)\" d=\"M 170.251136 224.64 \nL 200.6875 224.64 \nL 200.6875 224.64 \nL 170.251136 224.64 \nz\n\" style=\"fill:#1f77b4;\"/>\n   </g>\n   <g id=\"patch_8\">\n    <path clip-path=\"url(#p5dab250aa1)\" d=\"M 200.6875 224.64 \nL 231.123864 224.64 \nL 231.123864 224.64 \nL 200.6875 224.64 \nz\n\" style=\"fill:#1f77b4;\"/>\n   </g>\n   <g id=\"patch_9\">\n    <path clip-path=\"url(#p5dab250aa1)\" d=\"M 231.123864 224.64 \nL 261.560227 224.64 \nL 261.560227 108.412405 \nL 231.123864 108.412405 \nz\n\" style=\"fill:#1f77b4;\"/>\n   </g>\n   <g id=\"patch_10\">\n    <path clip-path=\"url(#p5dab250aa1)\" d=\"M 261.560227 224.64 \nL 291.996591 224.64 \nL 291.996591 224.64 \nL 261.560227 224.64 \nz\n\" style=\"fill:#1f77b4;\"/>\n   </g>\n   <g id=\"patch_11\">\n    <path clip-path=\"url(#p5dab250aa1)\" d=\"M 291.996591 224.64 \nL 322.432955 224.64 \nL 322.432955 224.64 \nL 291.996591 224.64 \nz\n\" style=\"fill:#1f77b4;\"/>\n   </g>\n   <g id=\"patch_12\">\n    <path clip-path=\"url(#p5dab250aa1)\" d=\"M 322.432955 224.64 \nL 352.869318 224.64 \nL 352.869318 224.050012 \nL 322.432955 224.050012 \nz\n\" style=\"fill:#1f77b4;\"/>\n   </g>\n   <g id=\"matplotlib.axis_1\">\n    <g id=\"xtick_1\">\n     <g id=\"line2d_1\">\n      <defs>\n       <path d=\"M 0 0 \nL 0 3.5 \n\" id=\"m89c8faedba\" style=\"stroke:#000000;stroke-width:0.8;\"/>\n      </defs>\n      <g>\n       <use style=\"stroke:#000000;stroke-width:0.8;\" x=\"48.505682\" xlink:href=\"#m89c8faedba\" y=\"224.64\"/>\n      </g>\n     </g>\n     <g id=\"text_1\">\n      <!-- briere_aicc -->\n      <defs>\n       <path d=\"M 48.6875 27.296875 \nQ 48.6875 37.203125 44.609375 42.84375 \nQ 40.53125 48.484375 33.40625 48.484375 \nQ 26.265625 48.484375 22.1875 42.84375 \nQ 18.109375 37.203125 18.109375 27.296875 \nQ 18.109375 17.390625 22.1875 11.75 \nQ 26.265625 6.109375 33.40625 6.109375 \nQ 40.53125 6.109375 44.609375 11.75 \nQ 48.6875 17.390625 48.6875 27.296875 \nz\nM 18.109375 46.390625 \nQ 20.953125 51.265625 25.265625 53.625 \nQ 29.59375 56 35.59375 56 \nQ 45.5625 56 51.78125 48.09375 \nQ 58.015625 40.1875 58.015625 27.296875 \nQ 58.015625 14.40625 51.78125 6.484375 \nQ 45.5625 -1.421875 35.59375 -1.421875 \nQ 29.59375 -1.421875 25.265625 0.953125 \nQ 20.953125 3.328125 18.109375 8.203125 \nL 18.109375 0 \nL 9.078125 0 \nL 9.078125 75.984375 \nL 18.109375 75.984375 \nz\n\" id=\"DejaVuSans-98\"/>\n       <path d=\"M 41.109375 46.296875 \nQ 39.59375 47.171875 37.8125 47.578125 \nQ 36.03125 48 33.890625 48 \nQ 26.265625 48 22.1875 43.046875 \nQ 18.109375 38.09375 18.109375 28.8125 \nL 18.109375 0 \nL 9.078125 0 \nL 9.078125 54.6875 \nL 18.109375 54.6875 \nL 18.109375 46.1875 \nQ 20.953125 51.171875 25.484375 53.578125 \nQ 30.03125 56 36.53125 56 \nQ 37.453125 56 38.578125 55.875 \nQ 39.703125 55.765625 41.0625 55.515625 \nz\n\" id=\"DejaVuSans-114\"/>\n       <path d=\"M 9.421875 54.6875 \nL 18.40625 54.6875 \nL 18.40625 0 \nL 9.421875 0 \nz\nM 9.421875 75.984375 \nL 18.40625 75.984375 \nL 18.40625 64.59375 \nL 9.421875 64.59375 \nz\n\" id=\"DejaVuSans-105\"/>\n       <path d=\"M 56.203125 29.59375 \nL 56.203125 25.203125 \nL 14.890625 25.203125 \nQ 15.484375 15.921875 20.484375 11.0625 \nQ 25.484375 6.203125 34.421875 6.203125 \nQ 39.59375 6.203125 44.453125 7.46875 \nQ 49.3125 8.734375 54.109375 11.28125 \nL 54.109375 2.78125 \nQ 49.265625 0.734375 44.1875 -0.34375 \nQ 39.109375 -1.421875 33.890625 -1.421875 \nQ 20.796875 -1.421875 13.15625 6.1875 \nQ 5.515625 13.8125 5.515625 26.8125 \nQ 5.515625 40.234375 12.765625 48.109375 \nQ 20.015625 56 32.328125 56 \nQ 43.359375 56 49.78125 48.890625 \nQ 56.203125 41.796875 56.203125 29.59375 \nz\nM 47.21875 32.234375 \nQ 47.125 39.59375 43.09375 43.984375 \nQ 39.0625 48.390625 32.421875 48.390625 \nQ 24.90625 48.390625 20.390625 44.140625 \nQ 15.875 39.890625 15.1875 32.171875 \nz\n\" id=\"DejaVuSans-101\"/>\n       <path d=\"M 50.984375 -16.609375 \nL 50.984375 -23.578125 \nL -0.984375 -23.578125 \nL -0.984375 -16.609375 \nz\n\" id=\"DejaVuSans-95\"/>\n       <path d=\"M 34.28125 27.484375 \nQ 23.390625 27.484375 19.1875 25 \nQ 14.984375 22.515625 14.984375 16.5 \nQ 14.984375 11.71875 18.140625 8.90625 \nQ 21.296875 6.109375 26.703125 6.109375 \nQ 34.1875 6.109375 38.703125 11.40625 \nQ 43.21875 16.703125 43.21875 25.484375 \nL 43.21875 27.484375 \nz\nM 52.203125 31.203125 \nL 52.203125 0 \nL 43.21875 0 \nL 43.21875 8.296875 \nQ 40.140625 3.328125 35.546875 0.953125 \nQ 30.953125 -1.421875 24.3125 -1.421875 \nQ 15.921875 -1.421875 10.953125 3.296875 \nQ 6 8.015625 6 15.921875 \nQ 6 25.140625 12.171875 29.828125 \nQ 18.359375 34.515625 30.609375 34.515625 \nL 43.21875 34.515625 \nL 43.21875 35.40625 \nQ 43.21875 41.609375 39.140625 45 \nQ 35.0625 48.390625 27.6875 48.390625 \nQ 23 48.390625 18.546875 47.265625 \nQ 14.109375 46.140625 10.015625 43.890625 \nL 10.015625 52.203125 \nQ 14.9375 54.109375 19.578125 55.046875 \nQ 24.21875 56 28.609375 56 \nQ 40.484375 56 46.34375 49.84375 \nQ 52.203125 43.703125 52.203125 31.203125 \nz\n\" id=\"DejaVuSans-97\"/>\n       <path d=\"M 48.78125 52.59375 \nL 48.78125 44.1875 \nQ 44.96875 46.296875 41.140625 47.34375 \nQ 37.3125 48.390625 33.40625 48.390625 \nQ 24.65625 48.390625 19.8125 42.84375 \nQ 14.984375 37.3125 14.984375 27.296875 \nQ 14.984375 17.28125 19.8125 11.734375 \nQ 24.65625 6.203125 33.40625 6.203125 \nQ 37.3125 6.203125 41.140625 7.25 \nQ 44.96875 8.296875 48.78125 10.40625 \nL 48.78125 2.09375 \nQ 45.015625 0.34375 40.984375 -0.53125 \nQ 36.96875 -1.421875 32.421875 -1.421875 \nQ 20.0625 -1.421875 12.78125 6.34375 \nQ 5.515625 14.109375 5.515625 27.296875 \nQ 5.515625 40.671875 12.859375 48.328125 \nQ 20.21875 56 33.015625 56 \nQ 37.15625 56 41.109375 55.140625 \nQ 45.0625 54.296875 48.78125 52.59375 \nz\n\" id=\"DejaVuSans-99\"/>\n      </defs>\n      <g transform=\"translate(21.339276 239.238437)scale(0.1 -0.1)\">\n       <use xlink:href=\"#DejaVuSans-98\"/>\n       <use x=\"63.476562\" xlink:href=\"#DejaVuSans-114\"/>\n       <use x=\"104.589844\" xlink:href=\"#DejaVuSans-105\"/>\n       <use x=\"132.373047\" xlink:href=\"#DejaVuSans-101\"/>\n       <use x=\"193.896484\" xlink:href=\"#DejaVuSans-114\"/>\n       <use x=\"232.759766\" xlink:href=\"#DejaVuSans-101\"/>\n       <use x=\"294.283203\" xlink:href=\"#DejaVuSans-95\"/>\n       <use x=\"344.283203\" xlink:href=\"#DejaVuSans-97\"/>\n       <use x=\"405.5625\" xlink:href=\"#DejaVuSans-105\"/>\n       <use x=\"433.345703\" xlink:href=\"#DejaVuSans-99\"/>\n       <use x=\"488.326172\" xlink:href=\"#DejaVuSans-99\"/>\n      </g>\n     </g>\n    </g>\n    <g id=\"xtick_2\">\n     <g id=\"line2d_2\">\n      <g>\n       <use style=\"stroke:#000000;stroke-width:0.8;\" x=\"149.960227\" xlink:href=\"#m89c8faedba\" y=\"224.64\"/>\n      </g>\n     </g>\n     <g id=\"text_2\">\n      <!-- quad_aicc -->\n      <defs>\n       <path d=\"M 14.796875 27.296875 \nQ 14.796875 17.390625 18.875 11.75 \nQ 22.953125 6.109375 30.078125 6.109375 \nQ 37.203125 6.109375 41.296875 11.75 \nQ 45.40625 17.390625 45.40625 27.296875 \nQ 45.40625 37.203125 41.296875 42.84375 \nQ 37.203125 48.484375 30.078125 48.484375 \nQ 22.953125 48.484375 18.875 42.84375 \nQ 14.796875 37.203125 14.796875 27.296875 \nz\nM 45.40625 8.203125 \nQ 42.578125 3.328125 38.25 0.953125 \nQ 33.9375 -1.421875 27.875 -1.421875 \nQ 17.96875 -1.421875 11.734375 6.484375 \nQ 5.515625 14.40625 5.515625 27.296875 \nQ 5.515625 40.1875 11.734375 48.09375 \nQ 17.96875 56 27.875 56 \nQ 33.9375 56 38.25 53.625 \nQ 42.578125 51.265625 45.40625 46.390625 \nL 45.40625 54.6875 \nL 54.390625 54.6875 \nL 54.390625 -20.796875 \nL 45.40625 -20.796875 \nz\n\" id=\"DejaVuSans-113\"/>\n       <path d=\"M 8.5 21.578125 \nL 8.5 54.6875 \nL 17.484375 54.6875 \nL 17.484375 21.921875 \nQ 17.484375 14.15625 20.5 10.265625 \nQ 23.53125 6.390625 29.59375 6.390625 \nQ 36.859375 6.390625 41.078125 11.03125 \nQ 45.3125 15.671875 45.3125 23.6875 \nL 45.3125 54.6875 \nL 54.296875 54.6875 \nL 54.296875 0 \nL 45.3125 0 \nL 45.3125 8.40625 \nQ 42.046875 3.421875 37.71875 1 \nQ 33.40625 -1.421875 27.6875 -1.421875 \nQ 18.265625 -1.421875 13.375 4.4375 \nQ 8.5 10.296875 8.5 21.578125 \nz\nM 31.109375 56 \nz\n\" id=\"DejaVuSans-117\"/>\n       <path d=\"M 45.40625 46.390625 \nL 45.40625 75.984375 \nL 54.390625 75.984375 \nL 54.390625 0 \nL 45.40625 0 \nL 45.40625 8.203125 \nQ 42.578125 3.328125 38.25 0.953125 \nQ 33.9375 -1.421875 27.875 -1.421875 \nQ 17.96875 -1.421875 11.734375 6.484375 \nQ 5.515625 14.40625 5.515625 27.296875 \nQ 5.515625 40.1875 11.734375 48.09375 \nQ 17.96875 56 27.875 56 \nQ 33.9375 56 38.25 53.625 \nQ 42.578125 51.265625 45.40625 46.390625 \nz\nM 14.796875 27.296875 \nQ 14.796875 17.390625 18.875 11.75 \nQ 22.953125 6.109375 30.078125 6.109375 \nQ 37.203125 6.109375 41.296875 11.75 \nQ 45.40625 17.390625 45.40625 27.296875 \nQ 45.40625 37.203125 41.296875 42.84375 \nQ 37.203125 48.484375 30.078125 48.484375 \nQ 22.953125 48.484375 18.875 42.84375 \nQ 14.796875 37.203125 14.796875 27.296875 \nz\n\" id=\"DejaVuSans-100\"/>\n      </defs>\n      <g transform=\"translate(124.927415 239.238437)scale(0.1 -0.1)\">\n       <use xlink:href=\"#DejaVuSans-113\"/>\n       <use x=\"63.476562\" xlink:href=\"#DejaVuSans-117\"/>\n       <use x=\"126.855469\" xlink:href=\"#DejaVuSans-97\"/>\n       <use x=\"188.134766\" xlink:href=\"#DejaVuSans-100\"/>\n       <use x=\"251.611328\" xlink:href=\"#DejaVuSans-95\"/>\n       <use x=\"301.611328\" xlink:href=\"#DejaVuSans-97\"/>\n       <use x=\"362.890625\" xlink:href=\"#DejaVuSans-105\"/>\n       <use x=\"390.673828\" xlink:href=\"#DejaVuSans-99\"/>\n       <use x=\"445.654297\" xlink:href=\"#DejaVuSans-99\"/>\n      </g>\n     </g>\n    </g>\n    <g id=\"xtick_3\">\n     <g id=\"line2d_3\">\n      <g>\n       <use style=\"stroke:#000000;stroke-width:0.8;\" x=\"251.414773\" xlink:href=\"#m89c8faedba\" y=\"224.64\"/>\n      </g>\n     </g>\n     <g id=\"text_3\">\n      <!-- cubic_aicc -->\n      <g transform=\"translate(225.732741 239.238437)scale(0.1 -0.1)\">\n       <use xlink:href=\"#DejaVuSans-99\"/>\n       <use x=\"54.980469\" xlink:href=\"#DejaVuSans-117\"/>\n       <use x=\"118.359375\" xlink:href=\"#DejaVuSans-98\"/>\n       <use x=\"181.835938\" xlink:href=\"#DejaVuSans-105\"/>\n       <use x=\"209.619141\" xlink:href=\"#DejaVuSans-99\"/>\n       <use x=\"264.599609\" xlink:href=\"#DejaVuSans-95\"/>\n       <use x=\"314.599609\" xlink:href=\"#DejaVuSans-97\"/>\n       <use x=\"375.878906\" xlink:href=\"#DejaVuSans-105\"/>\n       <use x=\"403.662109\" xlink:href=\"#DejaVuSans-99\"/>\n       <use x=\"458.642578\" xlink:href=\"#DejaVuSans-99\"/>\n      </g>\n     </g>\n    </g>\n    <g id=\"xtick_4\">\n     <g id=\"line2d_4\">\n      <g>\n       <use style=\"stroke:#000000;stroke-width:0.8;\" x=\"352.869318\" xlink:href=\"#m89c8faedba\" y=\"224.64\"/>\n      </g>\n     </g>\n     <g id=\"text_4\">\n      <!-- school_aicc -->\n      <defs>\n       <path d=\"M 44.28125 53.078125 \nL 44.28125 44.578125 \nQ 40.484375 46.53125 36.375 47.5 \nQ 32.28125 48.484375 27.875 48.484375 \nQ 21.1875 48.484375 17.84375 46.4375 \nQ 14.5 44.390625 14.5 40.28125 \nQ 14.5 37.15625 16.890625 35.375 \nQ 19.28125 33.59375 26.515625 31.984375 \nL 29.59375 31.296875 \nQ 39.15625 29.25 43.1875 25.515625 \nQ 47.21875 21.78125 47.21875 15.09375 \nQ 47.21875 7.46875 41.1875 3.015625 \nQ 35.15625 -1.421875 24.609375 -1.421875 \nQ 20.21875 -1.421875 15.453125 -0.5625 \nQ 10.6875 0.296875 5.421875 2 \nL 5.421875 11.28125 \nQ 10.40625 8.6875 15.234375 7.390625 \nQ 20.0625 6.109375 24.8125 6.109375 \nQ 31.15625 6.109375 34.5625 8.28125 \nQ 37.984375 10.453125 37.984375 14.40625 \nQ 37.984375 18.0625 35.515625 20.015625 \nQ 33.0625 21.96875 24.703125 23.78125 \nL 21.578125 24.515625 \nQ 13.234375 26.265625 9.515625 29.90625 \nQ 5.8125 33.546875 5.8125 39.890625 \nQ 5.8125 47.609375 11.28125 51.796875 \nQ 16.75 56 26.8125 56 \nQ 31.78125 56 36.171875 55.265625 \nQ 40.578125 54.546875 44.28125 53.078125 \nz\n\" id=\"DejaVuSans-115\"/>\n       <path d=\"M 54.890625 33.015625 \nL 54.890625 0 \nL 45.90625 0 \nL 45.90625 32.71875 \nQ 45.90625 40.484375 42.875 44.328125 \nQ 39.84375 48.1875 33.796875 48.1875 \nQ 26.515625 48.1875 22.3125 43.546875 \nQ 18.109375 38.921875 18.109375 30.90625 \nL 18.109375 0 \nL 9.078125 0 \nL 9.078125 75.984375 \nL 18.109375 75.984375 \nL 18.109375 46.1875 \nQ 21.34375 51.125 25.703125 53.5625 \nQ 30.078125 56 35.796875 56 \nQ 45.21875 56 50.046875 50.171875 \nQ 54.890625 44.34375 54.890625 33.015625 \nz\n\" id=\"DejaVuSans-104\"/>\n       <path d=\"M 30.609375 48.390625 \nQ 23.390625 48.390625 19.1875 42.75 \nQ 14.984375 37.109375 14.984375 27.296875 \nQ 14.984375 17.484375 19.15625 11.84375 \nQ 23.34375 6.203125 30.609375 6.203125 \nQ 37.796875 6.203125 41.984375 11.859375 \nQ 46.1875 17.53125 46.1875 27.296875 \nQ 46.1875 37.015625 41.984375 42.703125 \nQ 37.796875 48.390625 30.609375 48.390625 \nz\nM 30.609375 56 \nQ 42.328125 56 49.015625 48.375 \nQ 55.71875 40.765625 55.71875 27.296875 \nQ 55.71875 13.875 49.015625 6.21875 \nQ 42.328125 -1.421875 30.609375 -1.421875 \nQ 18.84375 -1.421875 12.171875 6.21875 \nQ 5.515625 13.875 5.515625 27.296875 \nQ 5.515625 40.765625 12.171875 48.375 \nQ 18.84375 56 30.609375 56 \nz\n\" id=\"DejaVuSans-111\"/>\n       <path d=\"M 9.421875 75.984375 \nL 18.40625 75.984375 \nL 18.40625 0 \nL 9.421875 0 \nz\n\" id=\"DejaVuSans-108\"/>\n      </defs>\n      <g transform=\"translate(324.387287 239.238437)scale(0.1 -0.1)\">\n       <use xlink:href=\"#DejaVuSans-115\"/>\n       <use x=\"52.099609\" xlink:href=\"#DejaVuSans-99\"/>\n       <use x=\"107.080078\" xlink:href=\"#DejaVuSans-104\"/>\n       <use x=\"170.458984\" xlink:href=\"#DejaVuSans-111\"/>\n       <use x=\"231.640625\" xlink:href=\"#DejaVuSans-111\"/>\n       <use x=\"292.822266\" xlink:href=\"#DejaVuSans-108\"/>\n       <use x=\"320.605469\" xlink:href=\"#DejaVuSans-95\"/>\n       <use x=\"370.605469\" xlink:href=\"#DejaVuSans-97\"/>\n       <use x=\"431.884766\" xlink:href=\"#DejaVuSans-105\"/>\n       <use x=\"459.667969\" xlink:href=\"#DejaVuSans-99\"/>\n       <use x=\"514.648438\" xlink:href=\"#DejaVuSans-99\"/>\n      </g>\n     </g>\n    </g>\n   </g>\n   <g id=\"matplotlib.axis_2\">\n    <g id=\"ytick_1\">\n     <g id=\"line2d_5\">\n      <defs>\n       <path d=\"M 0 0 \nL -3.5 0 \n\" id=\"m51e8832709\" style=\"stroke:#000000;stroke-width:0.8;\"/>\n      </defs>\n      <g>\n       <use style=\"stroke:#000000;stroke-width:0.8;\" x=\"33.2875\" xlink:href=\"#m51e8832709\" y=\"224.64\"/>\n      </g>\n     </g>\n     <g id=\"text_5\">\n      <!-- 0 -->\n      <defs>\n       <path d=\"M 31.78125 66.40625 \nQ 24.171875 66.40625 20.328125 58.90625 \nQ 16.5 51.421875 16.5 36.375 \nQ 16.5 21.390625 20.328125 13.890625 \nQ 24.171875 6.390625 31.78125 6.390625 \nQ 39.453125 6.390625 43.28125 13.890625 \nQ 47.125 21.390625 47.125 36.375 \nQ 47.125 51.421875 43.28125 58.90625 \nQ 39.453125 66.40625 31.78125 66.40625 \nz\nM 31.78125 74.21875 \nQ 44.046875 74.21875 50.515625 64.515625 \nQ 56.984375 54.828125 56.984375 36.375 \nQ 56.984375 17.96875 50.515625 8.265625 \nQ 44.046875 -1.421875 31.78125 -1.421875 \nQ 19.53125 -1.421875 13.0625 8.265625 \nQ 6.59375 17.96875 6.59375 36.375 \nQ 6.59375 54.828125 13.0625 64.515625 \nQ 19.53125 74.21875 31.78125 74.21875 \nz\n\" id=\"DejaVuSans-48\"/>\n      </defs>\n      <g transform=\"translate(19.925 228.439219)scale(0.1 -0.1)\">\n       <use xlink:href=\"#DejaVuSans-48\"/>\n      </g>\n     </g>\n    </g>\n    <g id=\"ytick_2\">\n     <g id=\"line2d_6\">\n      <g>\n       <use style=\"stroke:#000000;stroke-width:0.8;\" x=\"33.2875\" xlink:href=\"#m51e8832709\" y=\"195.140611\"/>\n      </g>\n     </g>\n     <g id=\"text_6\">\n      <!-- 50 -->\n      <defs>\n       <path d=\"M 10.796875 72.90625 \nL 49.515625 72.90625 \nL 49.515625 64.59375 \nL 19.828125 64.59375 \nL 19.828125 46.734375 \nQ 21.96875 47.46875 24.109375 47.828125 \nQ 26.265625 48.1875 28.421875 48.1875 \nQ 40.625 48.1875 47.75 41.5 \nQ 54.890625 34.8125 54.890625 23.390625 \nQ 54.890625 11.625 47.5625 5.09375 \nQ 40.234375 -1.421875 26.90625 -1.421875 \nQ 22.3125 -1.421875 17.546875 -0.640625 \nQ 12.796875 0.140625 7.71875 1.703125 \nL 7.71875 11.625 \nQ 12.109375 9.234375 16.796875 8.0625 \nQ 21.484375 6.890625 26.703125 6.890625 \nQ 35.15625 6.890625 40.078125 11.328125 \nQ 45.015625 15.765625 45.015625 23.390625 \nQ 45.015625 31 40.078125 35.4375 \nQ 35.15625 39.890625 26.703125 39.890625 \nQ 22.75 39.890625 18.8125 39.015625 \nQ 14.890625 38.140625 10.796875 36.28125 \nz\n\" id=\"DejaVuSans-53\"/>\n      </defs>\n      <g transform=\"translate(13.5625 198.939829)scale(0.1 -0.1)\">\n       <use xlink:href=\"#DejaVuSans-53\"/>\n       <use x=\"63.623047\" xlink:href=\"#DejaVuSans-48\"/>\n      </g>\n     </g>\n    </g>\n    <g id=\"ytick_3\">\n     <g id=\"line2d_7\">\n      <g>\n       <use style=\"stroke:#000000;stroke-width:0.8;\" x=\"33.2875\" xlink:href=\"#m51e8832709\" y=\"165.641221\"/>\n      </g>\n     </g>\n     <g id=\"text_7\">\n      <!-- 100 -->\n      <defs>\n       <path d=\"M 12.40625 8.296875 \nL 28.515625 8.296875 \nL 28.515625 63.921875 \nL 10.984375 60.40625 \nL 10.984375 69.390625 \nL 28.421875 72.90625 \nL 38.28125 72.90625 \nL 38.28125 8.296875 \nL 54.390625 8.296875 \nL 54.390625 0 \nL 12.40625 0 \nz\n\" id=\"DejaVuSans-49\"/>\n      </defs>\n      <g transform=\"translate(7.2 169.44044)scale(0.1 -0.1)\">\n       <use xlink:href=\"#DejaVuSans-49\"/>\n       <use x=\"63.623047\" xlink:href=\"#DejaVuSans-48\"/>\n       <use x=\"127.246094\" xlink:href=\"#DejaVuSans-48\"/>\n      </g>\n     </g>\n    </g>\n    <g id=\"ytick_4\">\n     <g id=\"line2d_8\">\n      <g>\n       <use style=\"stroke:#000000;stroke-width:0.8;\" x=\"33.2875\" xlink:href=\"#m51e8832709\" y=\"136.141832\"/>\n      </g>\n     </g>\n     <g id=\"text_8\">\n      <!-- 150 -->\n      <g transform=\"translate(7.2 139.94105)scale(0.1 -0.1)\">\n       <use xlink:href=\"#DejaVuSans-49\"/>\n       <use x=\"63.623047\" xlink:href=\"#DejaVuSans-53\"/>\n       <use x=\"127.246094\" xlink:href=\"#DejaVuSans-48\"/>\n      </g>\n     </g>\n    </g>\n    <g id=\"ytick_5\">\n     <g id=\"line2d_9\">\n      <g>\n       <use style=\"stroke:#000000;stroke-width:0.8;\" x=\"33.2875\" xlink:href=\"#m51e8832709\" y=\"106.642442\"/>\n      </g>\n     </g>\n     <g id=\"text_9\">\n      <!-- 200 -->\n      <defs>\n       <path d=\"M 19.1875 8.296875 \nL 53.609375 8.296875 \nL 53.609375 0 \nL 7.328125 0 \nL 7.328125 8.296875 \nQ 12.9375 14.109375 22.625 23.890625 \nQ 32.328125 33.6875 34.8125 36.53125 \nQ 39.546875 41.84375 41.421875 45.53125 \nQ 43.3125 49.21875 43.3125 52.78125 \nQ 43.3125 58.59375 39.234375 62.25 \nQ 35.15625 65.921875 28.609375 65.921875 \nQ 23.96875 65.921875 18.8125 64.3125 \nQ 13.671875 62.703125 7.8125 59.421875 \nL 7.8125 69.390625 \nQ 13.765625 71.78125 18.9375 73 \nQ 24.125 74.21875 28.421875 74.21875 \nQ 39.75 74.21875 46.484375 68.546875 \nQ 53.21875 62.890625 53.21875 53.421875 \nQ 53.21875 48.921875 51.53125 44.890625 \nQ 49.859375 40.875 45.40625 35.40625 \nQ 44.1875 33.984375 37.640625 27.21875 \nQ 31.109375 20.453125 19.1875 8.296875 \nz\n\" id=\"DejaVuSans-50\"/>\n      </defs>\n      <g transform=\"translate(7.2 110.441661)scale(0.1 -0.1)\">\n       <use xlink:href=\"#DejaVuSans-50\"/>\n       <use x=\"63.623047\" xlink:href=\"#DejaVuSans-48\"/>\n       <use x=\"127.246094\" xlink:href=\"#DejaVuSans-48\"/>\n      </g>\n     </g>\n    </g>\n    <g id=\"ytick_6\">\n     <g id=\"line2d_10\">\n      <g>\n       <use style=\"stroke:#000000;stroke-width:0.8;\" x=\"33.2875\" xlink:href=\"#m51e8832709\" y=\"77.143053\"/>\n      </g>\n     </g>\n     <g id=\"text_10\">\n      <!-- 250 -->\n      <g transform=\"translate(7.2 80.942271)scale(0.1 -0.1)\">\n       <use xlink:href=\"#DejaVuSans-50\"/>\n       <use x=\"63.623047\" xlink:href=\"#DejaVuSans-53\"/>\n       <use x=\"127.246094\" xlink:href=\"#DejaVuSans-48\"/>\n      </g>\n     </g>\n    </g>\n    <g id=\"ytick_7\">\n     <g id=\"line2d_11\">\n      <g>\n       <use style=\"stroke:#000000;stroke-width:0.8;\" x=\"33.2875\" xlink:href=\"#m51e8832709\" y=\"47.643663\"/>\n      </g>\n     </g>\n     <g id=\"text_11\">\n      <!-- 300 -->\n      <defs>\n       <path d=\"M 40.578125 39.3125 \nQ 47.65625 37.796875 51.625 33 \nQ 55.609375 28.21875 55.609375 21.1875 \nQ 55.609375 10.40625 48.1875 4.484375 \nQ 40.765625 -1.421875 27.09375 -1.421875 \nQ 22.515625 -1.421875 17.65625 -0.515625 \nQ 12.796875 0.390625 7.625 2.203125 \nL 7.625 11.71875 \nQ 11.71875 9.328125 16.59375 8.109375 \nQ 21.484375 6.890625 26.8125 6.890625 \nQ 36.078125 6.890625 40.9375 10.546875 \nQ 45.796875 14.203125 45.796875 21.1875 \nQ 45.796875 27.640625 41.28125 31.265625 \nQ 36.765625 34.90625 28.71875 34.90625 \nL 20.21875 34.90625 \nL 20.21875 43.015625 \nL 29.109375 43.015625 \nQ 36.375 43.015625 40.234375 45.921875 \nQ 44.09375 48.828125 44.09375 54.296875 \nQ 44.09375 59.90625 40.109375 62.90625 \nQ 36.140625 65.921875 28.71875 65.921875 \nQ 24.65625 65.921875 20.015625 65.03125 \nQ 15.375 64.15625 9.8125 62.3125 \nL 9.8125 71.09375 \nQ 15.4375 72.65625 20.34375 73.4375 \nQ 25.25 74.21875 29.59375 74.21875 \nQ 40.828125 74.21875 47.359375 69.109375 \nQ 53.90625 64.015625 53.90625 55.328125 \nQ 53.90625 49.265625 50.4375 45.09375 \nQ 46.96875 40.921875 40.578125 39.3125 \nz\n\" id=\"DejaVuSans-51\"/>\n      </defs>\n      <g transform=\"translate(7.2 51.442882)scale(0.1 -0.1)\">\n       <use xlink:href=\"#DejaVuSans-51\"/>\n       <use x=\"63.623047\" xlink:href=\"#DejaVuSans-48\"/>\n       <use x=\"127.246094\" xlink:href=\"#DejaVuSans-48\"/>\n      </g>\n     </g>\n    </g>\n    <g id=\"ytick_8\">\n     <g id=\"line2d_12\">\n      <g>\n       <use style=\"stroke:#000000;stroke-width:0.8;\" x=\"33.2875\" xlink:href=\"#m51e8832709\" y=\"18.144274\"/>\n      </g>\n     </g>\n     <g id=\"text_12\">\n      <!-- 350 -->\n      <g transform=\"translate(7.2 21.943492)scale(0.1 -0.1)\">\n       <use xlink:href=\"#DejaVuSans-51\"/>\n       <use x=\"63.623047\" xlink:href=\"#DejaVuSans-53\"/>\n       <use x=\"127.246094\" xlink:href=\"#DejaVuSans-48\"/>\n      </g>\n     </g>\n    </g>\n   </g>\n   <g id=\"patch_13\">\n    <path d=\"M 33.2875 224.64 \nL 33.2875 7.2 \n\" style=\"fill:none;stroke:#000000;stroke-linecap:square;stroke-linejoin:miter;stroke-width:0.8;\"/>\n   </g>\n   <g id=\"patch_14\">\n    <path d=\"M 368.0875 224.64 \nL 368.0875 7.2 \n\" style=\"fill:none;stroke:#000000;stroke-linecap:square;stroke-linejoin:miter;stroke-width:0.8;\"/>\n   </g>\n   <g id=\"patch_15\">\n    <path d=\"M 33.2875 224.64 \nL 368.0875 224.64 \n\" style=\"fill:none;stroke:#000000;stroke-linecap:square;stroke-linejoin:miter;stroke-width:0.8;\"/>\n   </g>\n   <g id=\"patch_16\">\n    <path d=\"M 33.2875 7.2 \nL 368.0875 7.2 \n\" style=\"fill:none;stroke:#000000;stroke-linecap:square;stroke-linejoin:miter;stroke-width:0.8;\"/>\n   </g>\n  </g>\n </g>\n <defs>\n  <clipPath id=\"p5dab250aa1\">\n   <rect height=\"217.44\" width=\"334.8\" x=\"33.2875\" y=\"7.2\"/>\n  </clipPath>\n </defs>\n</svg>\n",
      "image/png": "[encoded data removed]"
     },
     "metadata": {
      "needs_background": "light"
     }
    }
   ],
   "source": [
    "plt.pyplot.hist(all_fitting_info[\"best_fit\"])"
   ]
  },
  {
   "cell_type": "code",
   "execution_count": 89,
   "metadata": {},
   "outputs": [],
   "source": [
    "# Save the data\n",
    "all_fitting_info.to_csv(\"../Results/all_fitting_info.csv\", index = False)"
   ]
  },
  {
   "source": [
    "## Check all_fitting_info tables"
   ],
   "cell_type": "markdown",
   "metadata": {}
  },
  {
   "cell_type": "code",
   "execution_count": 93,
   "metadata": {},
   "outputs": [
    {
     "output_type": "execute_result",
     "data": {
      "text/plain": [
       "       quad_Rsquared  cubic_Rsquared  briere_Rsquared  school_Rsquared\n",
       "count     629.000000      629.000000       629.000000       599.000000\n",
       "mean        0.843674        0.900076        -0.210056         0.394370\n",
       "std         0.195947        0.174601         4.311685         0.417475\n",
       "min         0.007316        0.016701       -64.005839        -1.272618\n",
       "25%         0.776917        0.901774         0.475188        -0.003792\n",
       "50%         0.923987        0.972485         0.854507         0.453184\n",
       "75%         0.976550        0.992276         0.964960         0.777086\n",
       "max         0.999804        0.999987         0.999417         0.999359"
      ],
      "text/html": "<div>\n<style scoped>\n    .dataframe tbody tr th:only-of-type {\n        vertical-align: middle;\n    }\n\n    .dataframe tbody tr th {\n        vertical-align: top;\n    }\n\n    .dataframe thead th {\n        text-align: right;\n    }\n</style>\n<table border=\"1\" class=\"dataframe\">\n  <thead>\n    <tr style=\"text-align: right;\">\n      <th></th>\n      <th>quad_Rsquared</th>\n      <th>cubic_Rsquared</th>\n      <th>briere_Rsquared</th>\n      <th>school_Rsquared</th>\n    </tr>\n  </thead>\n  <tbody>\n    <tr>\n      <th>count</th>\n      <td>629.000000</td>\n      <td>629.000000</td>\n      <td>629.000000</td>\n      <td>599.000000</td>\n    </tr>\n    <tr>\n      <th>mean</th>\n      <td>0.843674</td>\n      <td>0.900076</td>\n      <td>-0.210056</td>\n      <td>0.394370</td>\n    </tr>\n    <tr>\n      <th>std</th>\n      <td>0.195947</td>\n      <td>0.174601</td>\n      <td>4.311685</td>\n      <td>0.417475</td>\n    </tr>\n    <tr>\n      <th>min</th>\n      <td>0.007316</td>\n      <td>0.016701</td>\n      <td>-64.005839</td>\n      <td>-1.272618</td>\n    </tr>\n    <tr>\n      <th>25%</th>\n      <td>0.776917</td>\n      <td>0.901774</td>\n      <td>0.475188</td>\n      <td>-0.003792</td>\n    </tr>\n    <tr>\n      <th>50%</th>\n      <td>0.923987</td>\n      <td>0.972485</td>\n      <td>0.854507</td>\n      <td>0.453184</td>\n    </tr>\n    <tr>\n      <th>75%</th>\n      <td>0.976550</td>\n      <td>0.992276</td>\n      <td>0.964960</td>\n      <td>0.777086</td>\n    </tr>\n    <tr>\n      <th>max</th>\n      <td>0.999804</td>\n      <td>0.999987</td>\n      <td>0.999417</td>\n      <td>0.999359</td>\n    </tr>\n  </tbody>\n</table>\n</div>"
     },
     "metadata": {},
     "execution_count": 93
    }
   ],
   "source": [
    "all_fitting_info[[\"quad_Rsquared\", \"cubic_Rsquared\", \"briere_Rsquared\", \"school_Rsquared\"]].describe()"
   ]
  },
  {
   "cell_type": "code",
   "execution_count": 102,
   "metadata": {},
   "outputs": [
    {
     "output_type": "execute_result",
     "data": {
      "text/plain": [
       "      id   quad_aic   quad_bic  quad_aicc  quad_Rsquared  cubic_aic  \\\n",
       "192  271  77.990553  78.898309  85.990553       0.954832  69.034321   \n",
       "\n",
       "     cubic_bic  cubic_aicc  cubic_Rsquared  briere_aic  briere_bic  \\\n",
       "192  70.244662   77.034321        0.984899   93.928721   94.836476   \n",
       "\n",
       "     briere_aicc  briere_Rsquared  school_aic  school_bic  school_aicc  \\\n",
       "192    97.928721         0.777662  119.173612  120.383953   127.173612   \n",
       "\n",
       "     school_Rsquared    best_fit  \n",
       "192        -1.272618  cubic_aicc  "
      ],
      "text/html": "<div>\n<style scoped>\n    .dataframe tbody tr th:only-of-type {\n        vertical-align: middle;\n    }\n\n    .dataframe tbody tr th {\n        vertical-align: top;\n    }\n\n    .dataframe thead th {\n        text-align: right;\n    }\n</style>\n<table border=\"1\" class=\"dataframe\">\n  <thead>\n    <tr style=\"text-align: right;\">\n      <th></th>\n      <th>id</th>\n      <th>quad_aic</th>\n      <th>quad_bic</th>\n      <th>quad_aicc</th>\n      <th>quad_Rsquared</th>\n      <th>cubic_aic</th>\n      <th>cubic_bic</th>\n      <th>cubic_aicc</th>\n      <th>cubic_Rsquared</th>\n      <th>briere_aic</th>\n      <th>briere_bic</th>\n      <th>briere_aicc</th>\n      <th>briere_Rsquared</th>\n      <th>school_aic</th>\n      <th>school_bic</th>\n      <th>school_aicc</th>\n      <th>school_Rsquared</th>\n      <th>best_fit</th>\n    </tr>\n  </thead>\n  <tbody>\n    <tr>\n      <th>192</th>\n      <td>271</td>\n      <td>77.990553</td>\n      <td>78.898309</td>\n      <td>85.990553</td>\n      <td>0.954832</td>\n      <td>69.034321</td>\n      <td>70.244662</td>\n      <td>77.034321</td>\n      <td>0.984899</td>\n      <td>93.928721</td>\n      <td>94.836476</td>\n      <td>97.928721</td>\n      <td>0.777662</td>\n      <td>119.173612</td>\n      <td>120.383953</td>\n      <td>127.173612</td>\n      <td>-1.272618</td>\n      <td>cubic_aicc</td>\n    </tr>\n  </tbody>\n</table>\n</div>"
     },
     "metadata": {},
     "execution_count": 102
    }
   ],
   "source": [
    "all_fitting_info[all_fitting_info[\"school_Rsquared\"] < -1]"
   ]
  },
  {
   "cell_type": "code",
   "execution_count": null,
   "metadata": {},
   "outputs": [],
   "source": []
  }
 ]
}